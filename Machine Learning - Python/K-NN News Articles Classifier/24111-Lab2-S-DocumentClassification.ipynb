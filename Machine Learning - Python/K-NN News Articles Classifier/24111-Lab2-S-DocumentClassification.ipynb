{
 "cells": [
  {
   "cell_type": "markdown",
   "metadata": {},
   "source": [
    "# COMP24111 - Exercise 2: News Article Classification\n",
    "\n",
    "## 1. Task description\n",
    "\n",
    "The provided dataset includes a total of 800 articles taken from Reuters newswire.\n",
    "They belong to 4 classes: \"earn\" (0), \"crude\" (1), \"trade\" (2) and \"interest\" (3).\n",
    "There are 200 articles per class.\n",
    "Each article is characterised by word occurrences.\n",
    "The list of used words is called a vocabulary.\n",
    "In our dataset, the vocabulary includes a total of 6428 words. "
   ]
  },
  {
   "cell_type": "markdown",
   "metadata": {},
   "source": [
    "## 2. Preparation\n",
    "\n",
    "First we need to import the data.\n",
    "Run the below cell to load the data using NumPy."
   ]
  },
  {
   "cell_type": "code",
   "execution_count": 1,
   "metadata": {},
   "outputs": [],
   "source": [
    "import numpy as np\n",
    "import matplotlib.pyplot as plt\n",
    "import scipy.sparse\n",
    "\n",
    "data, labels, class_names, vocabulary = np.load(\"ReutersNews_4Classes_sparse.npy\", allow_pickle=True)"
   ]
  },
  {
   "cell_type": "markdown",
   "metadata": {},
   "source": [
    "### A Note on Sparsity\n",
    "\n",
    "Most documents only contain a small subset of the vocabulary, resulting in a very sparse data matrix.\n",
    "To take advantage of the sparsity, in this exercise `data` is represented as a `scipy.sparse.csr_matrix`, which can store sparse matrices efficiently while still allowing efficient row-based indexing.\n",
    "You can learn more about `csr_matrix` and other ways of dealing with sparse matrices at https://docs.scipy.org/doc/scipy/reference/sparse.html.\n",
    "\n",
    "Note, however, that `data` is **not** a normal NumPy array.\n",
    "While most operations will be the same as with a normal dense array, **you cannot use a sparse matrix to index another matrix**.\n",
   
   ]
  },
  {
   "cell_type": "code",
   "execution_count": 2,
   "metadata": {},
   "outputs": [
    {
     "name": "stdout",
     "output_type": "stream",
     "text": [
      "  (0, 2)\t1\n",
      "  (0, 3)\t3\n",
      "  (0, 5)\t1\n",
      "  (0, 8)\t1\n",
      "  (0, 10)\t1\n",
      "  (0, 11)\t1\n",
      "  (0, 12)\t1\n",
      "  (0, 13)\t1\n",
      "  (0, 21)\t2\n",
      "  (0, 24)\t1\n",
      "  (0, 105)\t1\n",
      "  (0, 127)\t1\n",
      "  (0, 227)\t1\n",
      "  (0, 275)\t1\n",
      "  (0, 334)\t2\n",
      "  (0, 341)\t1\n",
      "  (0, 348)\t1\n",
      "  (0, 359)\t1\n",
      "  (0, 411)\t1\n",
      "  (0, 426)\t1\n",
      "  (0, 1428)\t1\n",
      "  (0, 2058)\t1\n",
      "  (0, 5555)\t1\n",
      "[[0 0 1 ... 0 0 0]]\n",
      "['share' 'split' 'say' 'two-for-one' 'shareholder' 'annual' 'meeting'\n",
      " 'reuter' 'ct' 'note' 'company' 'pay' 'subject' 'increase' 'stock'\n",
      " 'dividend' 'april' 'northern' 'declare' 'approval' 'telecom' 'post-split'\n",
      " 'nt']\n"
     ]
    }
   ],
   "source": [
    "print(data[41,:]) # A sparse row vector; the output will be the non-zero indices and their values.\n",
    "print(data[41,:].toarray()) # Convert back to a NumPy array. Note that the result is a (1, 6428) matrix, not a vector.\n",
    "# print(vocabulary[data[41,:] > 0]) # Can't index vocabulary with a sparse matrix.\n",
    "rows, columns, values = scipy.sparse.find(data[41,:]) # Find the non-zero entries in the 42nd document.\n",
    "print(vocabulary[columns]) # Prints the words present in the 42nd document."
   ]
  },
  {
   "cell_type": "markdown",
   "metadata": {},
   "source": [
    "To see the full vocabulary, you can run"
   ]
  },
  {
   "cell_type": "code",
   "execution_count": 3,
   "metadata": {
    "scrolled": true
   },
   "outputs": [
    {
     "name": "stdout",
     "output_type": "stream",
     "text": [
      "island, telephone, share, split, approve, say, previously, announce, two-for-one, common, shareholder, annual, meeting, reuter, year, net, shr, loss, nil, vs, profit, ct, rev, mln, note, current, include, charge, discontinue, operation, dlr, ec, state, tax, majority, european, community, member, strong, reservation, import, domestically-produced, oil, fat, propose, commission, senior, diplomat, special, committee, agricultural, expert, voice, objection, measure, prepare, ground, farm, begin, monday, add, france, italy, indicate, support, proposal, lead, initially, tonne, 1987/88, price, round, complete, sale, french, unit, business, compagnie, francaise, group, investor, employee, minnesota, disclose, term, deal, plan, asset, electronic, shoe, town, end, jan, respectively, december, wisconsin, fwb, buy, bank, corp, acquire, bancshare, cash, acquisition, hold, company, total, billion, purchase, time, earning, office, paul, area, american, product, 3rd, qtr, period, feb, mth, avg, 4th, seven, entertainment, publication, disposal, pay, store, correct, mobil, mob, upgrade, refinery, spend, texas, catalytic, convert, component, gasoline, use, super, unleaded, allow, continuous, basis, shutdown, currently, shut, twice, produce, barrel, day, construction, start, late, completion, set, output, inc., result, slightly, ab, weakening, dollar, cause, drop, chief, executive, good, final, report, release, earlier, allocation, crown, compare, despite, fall, industrial, high, car, truck, completely, sell, year-end, operate, income, financial, strength, exceptional, opportunity, invest, future, meridian, energy, letter, intent, development, privately-held, decide, terminate, exclude, quarter, extraordinary, gain, british, minister, discuss, public, spending, finance, need, control, talk, today, chancellor, exchequer, nigel, lawson, treasury, spokesman, review, economy, domestic, decline, comment, subject, concerted, action, arise, u., currency, dip, sharply, week, month, relative, stability, agreement, major, industrialised, nation, paris, february, stabilise, feed, heller, urge, broad, reform, aid, banking, federal, reserve, board, governor, robert, strengthen, permit, formation, service, involve, like, insurance, real, estate, security, speech, delivery, new, york, analyst, association, believe, increase, diversification, line, key, idea, advocate, regulation, various, thrift, investment, subsidiary, handle, limit, place, extension, credit, associate, institution, transaction, necessary, avoid, abuse, position, require, serve, make, commitment, maintain, capital, word, fail, long, positive, commercial, enterprise, provision, flow, effect, corporation, customer, deposit, assure, incentive, remove, access, national, international, united, mean, steady, america, world, table, competitive, department, qtly, div, pct, 2-for-1, stock, cie, advance, science, datum, available, raise, dividend, quarterly, form, ask, number, payable, pre-split, april, record, distribute, receive, commonwealth, settlement, debt, stockholder, california, concern, title, northern, county, costa, san, home, saving, initial, cotton, u.s., run, season, census, bureau, brand, bp, manage, director, hike, standard, offer, user, merger, pacific, union, processing, mutually, agree, withdraw, negotiation, sign, merge, november, continue, ownership, commit, additional, history, expect, after-tax, close, primarily, direct, mail, marketing, likely, meet, growth, goal, lose, industry, regular, payout, declare, class, equal, prior, manufacturing, paper, dunn, jame, river, partly, reduce, contingent, payment, offset, closing, approval, satisfactory, labor, old, republic, int'l, june, crn, money, market, mutual, fund, expectation, value, petroleum, plc, half, signal, patch, think, bid, clear, confidence, higher, sanford, margosh, shearson, lehman, brother, early, tender, opec, win, war, crack, bruce, huge, implication, rest, issue, particularly, target, mention, usx, court, draw, attention, australian, holme, rumor, foresee, firm, takeover, situation, exception, possibly, partner, ago, restructure, point, rally, response, exxon, xon, rise, 1-1/8, chevron, chv, jump, texaco, tx, climb, 1/4, unocal, ucl, 1-3/4, occidental, amoco, 6-1/4, heavy, trading, session, wall, speculate, boost, 2-1/4, fact, giant, change, outlook, stay, hasty, view, look, long-term, heart, exceed, benchmark, crude, west, intermediate, trade, able, bright, alaskan, prudhoe, bay, field, north, extremely, attractive, large, just, fit, dean, witter, eugene, ahead, government, u.k., dispose, way, unite, revenue, cable, acre, co., finalize, bancorp, universal, holding, contract, obligation, chairman, freedom, recognize, first-quarter, defer, complex, recognition, come, repayment, loan, grant, commerce, house, dec, investigate, assurance, succeed, experience, negative, waiver, marine, midland, working, guarantee, secure, substantially, bernard, president, act, officer, engineering, halt, software, shipment, temporarily, technical, problem, program, anticipate, resume, fourth, oper, adjust, reverse, october, fair, lane, right, realty, research, backlog, cardena, decision, jorge, manager, colombia, coffee, federation, important, emerge, upcoming, organization, london, march, council, export, quota, routine, happen, unlikely, tell, journalist, suspend, failure, colombian, reporter, weekly, brazil, far, apart, prompt, yesterday, policy, know, project, stockpile, level, producer, accord, statistic, shortfall, regulatory, agency, 1st, earn, year-ago, tobacco, strike, introduce, low-priced, cigarette, performance, operating, trader, soviet, sugar, raw, night, hand, discount, spot, source, japanese, cargo, thai, relatively, nearby, remain, sharp, help, provoke, cover, cent, pound, limited, trust, date, proceed, hilton, holder, cease, liquidate, worth, debenture, substitute, distribution, connection, represent, balance, satisfy, liability, second, vote, profitable, follow, specific, figure, definitely, news, amendment, certificate, relate, center, property, plastic, work, denis, consumer, delegate, formally, present, friday, widespread, outstanding, item, reach, bilateral, consultation, delegation, main, draft, rule, package, certain, want, discussion, differential, different, origin, forward, material, minor, modification, original, intend, single, candidate, post, coast, exist, gmt, management, pledge, provide, expand, base, combustion, csp, environmental, principle, e.c, jordan, privately, pom, potomac, electric, power, virginia, territory, mainly, low, margin, cost, enter, head, design, manufacture, restructuring, adversely, affect, realize, significant, expense, remainder, pact, ohio, wholly, warrant, creditor, thing, micro, device, develop, chip, gate, complexity, harden, n.y, book, acceptance, nationally, schedule, borrowing, city, borrow, wednesday, two-week, statement, assumption, preferred, reorganization, resource, equivalent, previous, 3-for-2, effective, entitle, arsenal, determine, small, fiscal, attribute, pressure, cut, gross, addition, incur, aim, productivity, undertake, extend, hour, salary, job, save, annually, care, supply, average, free, depressed, seasonally, revise, economist, poll, forecast, forgiveness, dealer, collapse, foreign, exchange, speculation, germany, big, crash, stand, damage, claim, case, seek, mark, accuse, manipulate, private, great, recently, appeal, people, medical, evidence, life, crucial, hernandez, arturo, grisanti, regional, exporter, critical, effort, achieve, recovery, stabilize, non-opec, danger, reversal, really, movement, depend, venezuela, speak, opening, fifth, ministerial, informal, latin, caribbean, ecuador, mexico, attend, conference, observer, combat, congress, jaime, lusinchi, miraflore, presidential, palace, javi, espinosa, jose, assistant, secretary, perry, rubio, howard, b., significantly, inventory, potential, possible, shift, demand, brazilian, natural, gas, production, petrobras, basin, country, bpd, consumption, derivative, fuel, medium, general, central, three-for-two, white, semiconductor, economic, recommendation, reagan, retaliate, japan, alleged, unfair, practice, official, retaliation, curb, impose, senate, unanimously, penality, hard, hit, summer, stop, dump, open, return, anti-dumping, duty, semiconductors., indiana, plant, stake, chicago, banker, sec, try, gold, study, recommend, water, license, arrangement, appropriate, financing, estimate, feasibility, canadian, short, yield, rate, probable, ore, grade, yearly, break, zone, considerable, red, lake, mp, coal, related, nominal, consideration, specify, alberta, michael, retain, unspecified, royalty, reclamation, expire, reclaim, activity, occur, principal, authorize, proposed, article, option, broaden, multinational, sweden, variety, instead, optimistic, grow, leadership, intelligence, defense, congressional, joint, improve, worker, attitude, equipment, account, adopt, bring, apparent, solution, immediate, lack, appear, count, n't, marshall, goldman, harvard, university, hearing, fast, step, similar, peter, institute, advanced, commodity, discourage, innovation, technological, resistance, overall, surface, massive, party, complain, carry, conflict, quality, predict, technology, microprocessor, allowance, writedown, preliminary, finding, conduct, examination, authority, adjustment, deplete, environment, improvement, near, portfolio, non-performing, marathon, macmillan, ctc, ontario, ruling, uphold, block, hear, alfre, david, leave, join, motion, restate, reflect, january, delay, force, sheet, omaha, writeoff, subordinated, gatt, warn, budget, protectionism, emphasis, deficit, misplace, lie, agreeement, tariff, stress, protectionist, threaten, fundamental, size, remedie, encourage, personal, percentage, washington, resist, macroeconomic, barrier, little, reduction, inflation, basic, combination, insufficient, excessive, expansion, slow, workforce, risk, loom, imbalance, explanation, prediction, realignment, bear, sizeable, combined, impact, rapidly, worsen, climate, uncertainty, push, turn, trade., surprising, depreciation, expensive, suggest, idle, human, underutilised, factory, gear, abroad, stagnant, pattern, sector, decade, moderately, indebted, chile, philippine, south, korea, thailand, smelter, northw, mid-may, capacity, lease, corp., reopen, successful, unchanged, index, consecutive, year-on-year, september, winter, clothing, vegetable, electricity, housing, education, footwear, unadjusted, tokyo, food, utility, n.z, zealand, statistical, panel, sanction, violation, u.s.-japanese, administration, announcement, frustration, probably, consult, aide, persuade, abide, july, govern, u.s.-made, dumping, closed, unanimous, penalty, contain, semiconductor-based, television, video, cassette, recorder, nakasone, visit, prime, yasuhiro, week-long, cabinet, masaharu, gotoda, resolve, friction, venice, summit, western, democracy, tadashi, kuranari, accompany, ministry, violate, microchip, asia, australia, bp.l, compensation, subsidy, refiner, partially, enable, modest, pre-tax, pct-owned, sustain, exploration, endeavour, 33-1/3, chemical, maker, farmer, finalise, nitrogen, anz, jardine, h.k, turnover, bonus, par, august, broken, hill, pty, brkn., minority, mineral, steel, corporate, adjusted, finish, machine, tape, machinery, downturn, planning, gnp, match, balanced, four-for-one, ordinary, quote, simon, section, especially, hong, kong, land, fleming, lower, reorganisation, strain, flexibility, recent, pende, exercise, nearly, transfer, hk, strategic, spin, dairy, plus, cross, transform, middle, east, weakness, strategy, structure, policy., create, midday, rumour, 1985/86, range, register, qualify, tax-free, introduction, imputation, rank, influence, legislation, confine, division, generally, volume, bass, strait, operational, difficulty, largely, iron, southern, cement, acreage, surplus, lobby, agriculture, usda, taiwan, fulfil, protest, award, dominican, taiwanese, list, badly, lay, staff, entire, container, ship, cancel, local, press, later, file, protection, law, china, morning, charle, comprise, singapore, manila, seoul, osaka, provisional, survey, 1986/87, certainly, long-standing, reason, peso, ready, throw, submit, corazon, aquino, wait, election, enjoy, drive, longer, region, learn, mistake, diversify, corn, farming, cloth, lesson, diversified, industry., room, renewal, write, revive, subsidise, markets., uneconomical, bullish, artificial, happy, supplier, restore, watch, slash, suit, danish, cooperative, yen, anger, telecom, dispute, equity, telecommunication, legal, telecommunications, send, postal, malcolm, baldrige, object, participation, express, oppose, role, dampen, opposition, compete, monopoly, wireless, cawl.l, ford, motor, citibank, na, cci, digital, communication, merrill, lynch, mer, competitor, reject, argue, precedent, channel, dilute, eventually, bache, political, leverage, wo, diplomatic, reasonable, sort, watanabe, keidanren, arrange, outline, thursday, newspaper, britain, apply, placement, participate, wake, spark, herald, subsequent, one-for-four, radio, station, belgian, parent, metal, link, appreciation, defence, document, defend, itself, stg, pretax, u.k, england, shortage, factor, liquidity, mature, drain, aluminium, smelt, past, cheap, primary, indonesia, calendar, tight, recover, weak, dominate, segment, passenger, light, vehicle, suffer, profitability, erode, lift, penetration, buyer, netherland, ban, suspect, foot, mouth, daniel, notify, km, northeast, province, immediately, milk, beef, alternative, canada, al, swap, deputy, jeremy, davis, broadly, nz, overseas, closer, relation, treaty, accept, normally, invite, consolidated, attributable, franc, priority, ag, anticipated, mass, dieter, satisfied, 1984/85, projection, employ, barber, conable, sake, contribution, businessman, academic, support., assist, road, bridge, infrastructure, advantage, rechannelle, notably, india, faster, developed, concessionary, lending, affiliate, ida, reconstruction, ibrd, structural, competition, maybe, und, refine, concentrate, core, five-year, convertible, redeemable, spain, assistance, daily, oblige, borrower, window, normal, overnight, suspension, 10-day, accounting, requirement, peseta, hard-pressed, soothe, defuse, mount, chance, success, slim, box, powerful, ronald, congressman, coincide, retaliatory, live, arm, separate, pep, sagge, short-term, redirect, away, over-dependence, infighting, rob, punch, prevent, insist, pass, parliament, fear, tacit, admission, inadequate, hope, quick, passage, trip, shatter, parliamentary, boycott, face, possibility, virtually, empty-handed, order, liberal, democratic, ldp, deregulation, benefit, accelerate, portion, democrat-controlled, complement, longer-term, high-ranking, advisory, body, haruo, maekawa, concrete, follow-up, potentially, politically, explosive, explicit, reality, subcommittee, consider, undergo, amounte, gradual, outright, band, 9-13/16, intervene, dealing, intervention, aggressive, selling, ease, bundesbank, touch, test, fairly, contrast, progressive, launch, supermarket, minimum, one-for-one, debate, lately, buying, programme, highlight, worldwide, destination, turkey, libya, worthwhile, enquiry, proportion, operator, tighten, considerably, eastern, react, upwards, physical, interim, pakistan, shortly, originally, tomorrow, egypt, arrival, greece, internal, sa, mining, sum, elaborate, societe, countertrade, gap, search, non-communist, conserve, wheat, tea, jute, impetus, stc, mmtc, respect, bulk, promote, indian, spokeswoman, targette, bloc, non-convertible, rupee, textile, narrow, insignificant, shrink, dynamism, discreetly, officially, bartering, yugoslavia, rail, global, clause, preference, kind, flexible, quietly, interested, aircraft, drill, rig, railway, illustrate, korean, drilling, platform, state-run, wholesale, 2nd, carryforward, wage, one-third, transportation, responsible, fish, drug, apparel, spring, merchandise, man, mmb, weather, disrupt, sea, shipping, saturday, rain, wind, tonight, frequent, southwest, northwest, wave, build, diminish, weekend, suez, lloyd, port, chamber, monthly, expected, german, so-called, grey, illegal, pose, hedge, dollar-denominated, third-party, centre, swiftly, mohamme, keen, contentious, concession, question, prove, assign, soon, fully, advise, yr, closely, st., mortgage, servicing, combine, origination, afternoon, austria, austrian, deny, suggestion, vienna, creditanstalt, girozentrale, aware, purely, purpose, han, obtain, application, process, procedure, facility, equally, non-recurring, revaluation, offering, restaurant, manhattan, headquarters, sept, distributor, manufacturer, family, trend, fee, analyze, double, dougla, moderate, particular, vice, identify, it., focus, broadcasting, electrical, consistently, poor, w., establish, expenditure, fine, smoke, condition, quickly, uk, revoke, licence, select, progress, ca, yes, cross-section, influential, increasingly, impatient, sense, urgency, undermine, margaret, thatcher, hesitate, reciprocal, clearly, mind, defict, coordinate, restrictive, feeling, inside, parliamentarian, conservative, refuse, authorise, london-based, legally-binding, channon, engage, collective, alan, clark, interview, certification, overnight., reciprocity, regard, visible, dominant, aspect, fairness., minimise, indication, weigh, wide, retail, building, course, prospect, temporary, indirectly, repurchase, 6-1/8, sydney, ltd., appliance, retroactively, capitalize, intangible, ability, ongoing, waste, removal, mar, outlet, promotional, information, des, nec, pricing, jerome, cornerstone, qtrly, contingency, drawing, fixed, zero, malaysian, malaysia, conclude, unable, implement, organize, assess, sun, publishing, publish, lewis, glamis, glgvf, rebound, florida, mile, offshore, louisiana, gulf, discovery, depth, sand, cubic, choke, owner, venture, oklahoma, slap, receiver, laser-printer, penalize, hitachi, toshiba, fujitsu, reaan, invoke, negotiator, extensive, avail, peg, intention, tuesday, spur, belief, repeat, switch, cargill, echo, warehouse, pick, tab, storage, stipulate, mandatory, disagree, lot, 'll, outside, walter, brown, verify, gather, caution, opinion, difference, pretty, plaza, travel, gro, francisco, 109-billion, rat, lawsuit, dilson, funaro, monetary, imf, carefully, space, post-split, soft, type, slump, tie, network, bond, imperial, tangible, pace, constructive, steam, pronounced, william, reynold, upward, volatile, picture, competitiveness, willing, tolerate, s.g, warburg, door, conclusion, reaffirm, n.a., pursue, adviser, instruct, grain, status, satellite, choose, battle, team, dutch, philip, sit, ally, df, 13-1/2, amid, chinese, engineer, underway, slide, scale, premium, fix, nigeria, weight, minstar, confirm, restrict, maximum, welcome, conform, ring, exclusively, dollar-based, conversion, sterling, alleviate, romania, attract, active, zinc, replace, difficult, totally, disappear, feature, volatility, presently, squeeze, deliver, widen, declaration, 25th, narrowly, notice, resident, charter, glass, dynamic, michigan, den, stage, liquid, seasonal, premi, relax, relaxation, surge, framework, emergency, professor, bit, liberalisation, end-february, angrily, allegedly, eiaj, shoichi, saba, premature, irrational, attempt, assessment, comply, agreement., governmental, reconsider, evaluate, objective, emotional, bias, heated, cut-price, american-made, salvage, multi-lateral, organisation, regret, tree, licensing, bulletin, arab, establishment, preserve, civil, devastate, productive, acceptable, meantime, protect, health, accession, postpone, scrap, abolish, evolution, foreigner, widely, wang, trouble, suitable, unacceptable, sound, conciliatory, bitter, row, explain, stance, thoroughly, kyodo, high-level, settle, formal, request, deadline, u.s./japan, investigation, asian, hammer, distinctly, hajime, tamura, miti, downplay, significance, remark, message, urgently, admit, geneva-based, police, legality, wishful, thinking, confident, unregulated, dry, acknowledge, ensure, tsba.t, likewise, islamic, idb, porfolio, redeem, emirate, wam, cooperation, gcc, bahrain, kuwait, oman, qatar, saudi, arabia, uae, restrain, mid-1986, boom, recession, fresh, coordination, quite, substantial, series, examine, kuwaiti, dinar, trade-weighted, theory, foster, stable, instrument, recognise, hamper, premier, three-year, vice-chairman, banque, morgan, guaranty, treasurer, bad, plunge, economically, brief, pave, soar, dictate, erupt, full-scale, adverse, relationship, isolate, fall-out, sure, perception, respond, that., spread, depict, severe, warning, belligerent, angry, walk, secret, draconian, enforce, irrational., meaningless., solve, convince, allegation, fuer, gemeinwirtschaft, bkfg.f, prospectus, turbulence, troubled, depress, compensate, emphasise, necessarily, debtor, deutsche, sumita, satoshi, beginning, careful, judgement, septemb, steep, stem, peru, garcia, jungle, ecuadorean, border, site, treatment, extract, u.s.-japan, refer, spare, sides., understand, all., observe, adhere, avert, hop, tone, auto, ignore, bidding, partnership, afg, reiterate, negotiate, conglomerate, fetch, inform, explore, prefer, green, correspond, george, cumulative, tropical, woolworth, indonesian, suharto, backdrop, devalue, rupiah, editorial, jakarta, deregulate, non-oil, steadily, burden, end-investor, cautious, coupon, 10-year, favourably, chain, effect., allege, defiance, non-u., chipmaker, non-regulated, 'm, nick, edward, matsushita, rapid, levy, length, erosion, tom, murtha, capel, altogether, harm, approach, contradiction, hurt, vast, carole, ryavec, salomon, stimulate, export-dependent, economy., luxembourg, deterioration, weaken, deteriorate, provisionally, circumstance, beneficial, moment, unusual, petrochemical, regime, newly, valid, frequently, envisage, 91-day, traditional, afford, allot, differ, underlie, guilde, image, shop, inflow, behalf, easy, comparison, supplement, calculation, cartel, ail, transport, yard, capable, renew, 1988/89, sluggish, favourable, taxation, excess, allocate, guideline, fight, hostile, packaging, swedish, mel, attach, hectare, sixth, healthy, monitor, contemplate, broker, auction, est, client, tour, pioneer, popularity, popular, clearing, sight, threat, lessen, external, commissioner, stabilisation, benefitte, initiative, prepared, modestly, john, organic, maintenance, hotel, end-1986, indirect, sach, berlin, commerzbank, cbkg.f, state-owned, bonn, high-technology, reliance, broadly-based, divide, exciting, method, barclay, independent, subscribe, continued, listing, retire, appoint, refrain, directly, seller, aggressively, grangemouth, explosion, accident, kill, person, hydrocracker, overhaul, african, kenya, flat, interbank, mechanism, chocolate, overhang, pull, doubt, rely, reaction, tool, manoeuvre, perfectly, sensitive, winner, effectively, scheme, sdr, disappoint, nv, surprise, apparently, favour, tate, await, organise, willingness, manner, colorado, coastal, repay, continental, motivate, 7-1/2, million, clarify, actively, gilt, gradually, three-month, fluctuate, bullishness, triton, consist, exploratory, conventional, miller, yugoslav, fso, fluctuation, calculate, belgrade, all-time, cite, automotive, injection, gm, peak, gdp, straight, wood, automobile, custom, texa, windfall, scientific, santa, mexican, petroleos, mexicano, pemex, auditor, arthur, andersen, qualified, subsequently, unisy, uis, newport, geneva, switzerland, pro, element, posted, sulphur, 6-3/8, bow, secondary, principally, seaman, calgary, montreal, mid-april, 're, criterion, formula, master, unitholder, brokerage, divestiture, bob, consistent, non-binding, seattle, contravene, event, highly, incident, reveal, remote, sufficient, outcome, dialogue, matter, agenda, representative, imagine, scheduled, blame, rica, damaging, solidarity, adoption, jopling, portugal, weighted, year-earlier, contribute, pipe, spotlight, congres, rap, enormous, symbol, crisis, symbolize, challenge, nuture, multitude, leader, byrd, democrat, speaker, jim, wright, wide-ranging, readie, dismay, sophisticated, host, citrus, tough, relief, controversial, rep., richard, gephardt, aspirant, missouri, example, mid-1988, tired, 'we, marketplace.', argument, refining, garment, maturity, definitive, merchant, lend, undeveloped, clayton, bt, itt, weakened, improved, netback, mediterranean, pipeline, sweet, sour, alaska, europe, brent, bonny, dubai, cif, iran, cruzado, devaluation, unclear, owe, permanently, golden, don, hughe, hug, execute, detroit, versus, perform, repair, athen, aggregate, silver, king, additionally, dalla, mr, fashion, f.w, roughly, processor, self-imposed, cereal, j.p, belgium, affair, scandal, approximately, jpm, mayfair, hanover, guard, park, alarm, houston, 2-1/2, advisor, heat, decrease, heating, gallon, unemployment, social, usual, arrive, correspondent, gerhard, stoltenberg, karl, otto, poehl, italian, blow, baker, meaningful, 2.0-2.5, repo, permanent, float, translate, patent, disposition, dominion, burlington, n.a, concerned, michel, query, publicly, thoma, unavailable, repeatedly, topic, consume, interesting, essentially, evening, medium-, setback, euromarket, furniture, restriction, sir, lengthy, disadvantage, montedison, spa, agro-industrial, characterize, renato, italiana, interstate, donald, entity, 4-7/8, true, story, play, heavily, fabric, outlay, johnson, enhance, unsuccessful, 5/8, last-ditch, makoto, kuroda, smith, smart, audio, likelihood, monitoring, honor, enforcement, injure, enact, counter, redress, inaccurate, supply-demand, carolina, mellon, marlin, fitzwater, spite, jone, terminal, rent, freddie, beer, guilder, spanish, el, s.a., van, africa, essential, nigerian, successfully, banana, finally, bar, moscow, 12-1/2, samuel, traditionally, shelf, aegean, armed, confrontation, ambassador, nazmi, akiman, greek, reply, turkish, content, reinvest, laser, regulator, criticize, dilution, safety, virtual, responsive, vary, installation, itc, momentum, attain, tranzonic, tnz, iii, atlantic, connect, earthquake, 90-day, iraqi, troop, iranian, iraq, occupy, command, victory, thrust, attack, warplane, tank, baghdad, plane, destroy, raid, shoot, naval, sink, boat, inspection, inspect, administrator, phase, disruption, pilot, airline, assume, realistic, vulnerable, rental, emphasize, escalate, kick, louis, tailor, irna, gholamreza, aqazadeh, manpower, training, exploitation, forum, consequently, slowly, generalize, discipline, restraint, imposition, tend, proved, wilson, stimulus, more., discover, stick, definition, dl, inclusion, one-time, copper, vice-president, consortium, hopeful, cp, historically, streamline, jeffrey, allen, preparation, costly, air, fare, lender, classify, nat'l, spirit, ccc, importer, usa, exclusive, duty-free, locate, wine, compliance, wojnilower, boston, albert, subvert, occasion, harder, justifiably, seriously, participant, hiccup, dress, end-of-fiscal-year, above-average, pick-up, unsustainable, ray, pratt, version, stewart, southeast, fertilizer, exposure, somewhat, ratio, leaseback, distance, strongly, card, nova, scotia, 12-month, survival, bancorporation, implementation, existence, dependent, trim, buoy, magnitude, stanley, volcker, downward, remedy, chase, industrialize, testimony, answer, persistent, worry, ceiling, extent, floor, breakdown, inability, chesebrough, chesebrough-pond, unilever, favorable, said., envision, slight, santo, onshore, oilfield, cast, end-1987, rio, cra, claus, koehler, speculative, separately, hiss, background, dash, let, sentiment, accommodative, surrey, regardless, diametrically, activity., monetarist, concretely, counterpoint, overly, reuter^m, journal, debit, complaint, withdrawal, unless, liquified, rationalisation, swiss, shanghai, ta, hua, modernise, domestically, catch, riyal, spot-next, spill, 6-3/16, 5-15/16, 7/8, edge, 6-3/4, suisse, confirmation, exempt, read, page, grace, disburse, utilisation, household, seventh, socialist, campaign, sunday, privatisation, director-general, la, sweeping, paribas, et, lombard, eliminate, algeria, erasable, programmable, memory, unfairly, proof, justified, subscription, basically, urgent, postwar, criticism, meeting., notable, annuity, hague, goodwill, g-7, appreciate, suppose, holiday, warmer, guidance, entry, presence, gelco, kingdom, pool, realise, district, bargaining, membership, suntrust, sti, argentine, cow, default, r., c., kansa, waive, boveri, bbc, bbcz.z, carlo, e.f, hutton, banco, 7-3/4, inject, category, mixed, slowdown, semi-annual, disappointment, cope, rout, sustained, wealthy, poorest, occasion., graphic, fhlbb, two-third, depository, adequate, consent, plc., restricted, esso, educational, sallie, mae, student, 5-14, mac, frankfurt, upper, unnamed, interior, omit, exchangeable, resign, s., t., leasing, demonstrate, growth., standstill, diamond, salt, incorporate, states., presentation, reference, briefly, canron, quebec, rotterdam, undercut, upturn, strictly, already., bethlehem, inland, efficient, turnaround, mid, 1/8, neutral, mix, diagnostic, pharmaceutical, hot, unlike, brasil, cacex, orderly, sustainable, policy-making, simply, compensatory, royal, roy, jersey, joseph, undervalue, months., rome, contact, retirement, notion, semiannual, so., mid-1990, game, cruz, accordance, instruction, obvious, drexel, lambert, burnham, accomplishment, comparable, kenneth, puerto, rico, liberty, citicorp, entirely, t-bill, bidder, consensus, informally, resolution, ctyn, rd, dutch/shell, fb, quantity, jeopardize, belong, involvement, counter-productive, brighten, greenshield, toronto, slip, curtail, ussr, juice, freeze, degree, amend, trigger, shp, beverage, shamrock, 20-year, evaluation, 1-1/2, adam, detailed, argentina, foremost, bankruptcy, trap, provincial, newhall, dependency, inevitable, disincentive, synthetic, foodstuff, receipt, conjunction, facilitate, dd, tract, conoco, hydrocarbon, patient, write-off, funding, direction, mcdonnell, strict, inch, extended, miss, minus, correction, tucker, address, mandate, worst, uplift, overcome, precision, jack, identity, chicken, favor, calling, medicine, fort, determination, agreed, hefty, wish, technique, tackle, tactic, unreasonable, stripper, arctic, wildlife, refuge, judge, illegally, jay, irve, dismiss, ottawa, edmonton, lukman, couple, annum, rilwanu, industrialise, swing, stimulation, inappropriate, helmut, kohl, severely, stretch, revision, die, condemn, speed, century, adherence, hint, modify, recoverable, one-fifth, endanger, caribou, lee, superior, ncnb, maryland, rejection, maximize, turmoil, false, misleading, richfield, arc, mold, shultz, selective, confront, impossible, reasonably, bold, champion, breach, punta, del, este, auspex, jamaican, resort, chair, jamaica, senegal, papua, guinea, coat, bcf, mideast, vital, military, mountain, camp, actual, logic, aspen, individual, dan, timing, undetermined, mercantile, hardware, metric, feel, interprovincial, shall, hr, norwegian, brass, burst, thousand, metre, shell, vessel, friendly, tanker, fly, task, planned, municipal, language, telegraph, andrew, inroad, continuation, mfn, one-year, hungary, fate, missile, republican, imply, enhancement, g., expanded, massachusett, modern, optimism, analysis, sam, veto, destine, legislator, enactment, persian, supporter, critic, bombing, leftist, army, ecopetrol, estimated, pump, columbian, recipient, hide, promising, constraint, liberalize, lifting, protected, surround, venezuelan, manuel, azpurua, one-half, norway, senator, appropriation, iran-iraq, contrary, furthermore, choice, mitigate, jawboning, barney, harris, upham, upside, westpac, indicator, anza., crane, shot, austerity, disaster, anxious, divert, usually, disagreement, budgetary, useful, colleague, unusually, promise, rice, 1990s, viability, intensify, overcapacity, variable, rupture, guillermo, dehesa, spell, drastic, plenty, gill, acid, unilateral, denman, multilaterally, dangerous, path, impede, six-month, pittsburgh, rush, shield, looming, scope, obstacle, abolition, coalition, swell, copy, lay-off, struggle, generate, autumn, cftc, abandon, unresolved, bro, comprehensive, satisfactorily, cepe, plain, petrocanada, fran, permission, ample, merely, arizona, code, future., high-tech, crossroad, destocke, boee, hydraulic, medium-term, mission, cd, york-based, forma, restart, south-east, two-day, tourist, regain, fadhil, al-chalabi, sacrifice, credibility, caraca, painful, conservation, easily, reflection, rebuild, buoyant, unveil, align, insure, self-sufficiency, embassy, intense, risky, audience, dismantling, dismantle, ireland, refusal, narrowing, inevitably, export-led, hongkong, overdraft, s.korea, won, condensate, marginal, excise, 5.5p, gauge, taxpayer, voluntary, telex, guide, pertamina, contractual, understanding, commencement, crush, reschedule, hardship, desire, upwardly, norman, der, alter, severance, frank, westminster, nwbl.l, rpt, intact, unwilling, fence, mildly, pessimistic, negotiable, presidency, unity, package., oil-rich, gasoline-rich, first-half, mirror, minimal, one-quarter, barter, reluctance, kleinwort, cts/bbl, novemb, calm, nervous, subsidize, posting, phillip, wti, spin-off, disappointing, bernstein, multiple, shc, edmonton/swann, bbl, imo.a, tultex, ttx, margarine, hugely, southland, dlrs/bbl, murphy, permian, slc, citgo, age, wildcat, petro-canada, antwerp, firmly, justify, discriminatory, unp, champlin, nippon, strip, deductible, eventual, two-year, initiate, powdered, hemisphere, dupont, tran, criticise, uruguay, procurement, oversee, api, temper, benson, availability, lubricant, unprofitable, efficiency, inspire, indefinite, integral, embark, servant, toll, wrong, effectiveness, film, contractor, lucrative, wyome, airport, fruit, worse, sorely, ryan, la., moore, closure, accumulate, lag, steve, prevail, dwindle, english, player, rich, dozen, majeure, sulphuric, stoppage, hale, railroad, thought, husky, substance, hyo.to, wedge, u.s.-canada, u.s.-canadian, brian, mulroney, oecd, halve, marked, finland, fsi, nfsi, reeacquisition, precambrian, uneconomic, grease, monkey, gmhc, nov, acpt, mnst, respective, toog, option-granting, asc, kasler, kasl, un.a, angus, cbm.n, niall, fitzgerald, divergence, 50.17p, stauffer, lipton, surf, detergent, peke, discard, prejudice, generalise, gsp, print, counsellor, chen, shibiao, behaviour, out-of-date, pickup, insititute, accountant, intek, idcc, population, pharmacia, phab, st, once-off, know-how, adr, parity, lkb-produkter, intermedics-intraocular, dbkg.f, bankamerica, clash, minute, fre, trademark, agent, post-tax, op, dane, elimination, bank/canada, uncertain, guinean, lifetime, healthcare, herman, croo, re-orient, europe., introducte, problems., products., stupid, upset, mosty, suprlus, diverted, clout, fom, west., atmosphere, dramatize, headline, rostenkowski, temptation, club, d-ill., screen, plea, fairness, 1/2, fellow, stephen, career, ecgd, aged, convern, lump, at., trough, qustion, newsletter, sesame, artificially, catastrophe, evident, reluctant, luncheon, suicide, airbus, industrie, unexpected, midafternoon, unique, reshape, ccr, harold, annualize, carryover, ultimately, standpoint, certainty, timely, 30-35, saudis, jawbone, longshot, cheating, appearance, mckinley, oversell, rally., yeterray, indidate, denial, postition, subroto, canot, marion, indepedent, slack, 4-1/2, panic, sooner, jam, raymond, pancanadian, whitehall, distillate, residual, francisco-based, sponsor, patrick, leahy, d-vt., sen., melcher, d-mont., donation, pl480, concessional, bangladesh, tunisia, morocco, injury, apple, yr-ago, wellemeyer, ope, interfuel, resolved., exemption, mcdonald, non-voting, problem., pontiac, 24-month, 36-month, 48-mopnth, 60-month, equip, interst, ann, camco, specifically, ought, infe, apolonio, ruiz, ligero, four-year, fad, context, abroad., swift, korean/taiwan, fairchild, lastly, market., treat, bind, fourteen, 13-week, brown-forman, bfdb, refund, transition, soften, easing, compatible, hugo, paeman, multilateral, etienne, davignon, luyten, energy/california, curti, birr, bolster, munger, track, dreg, ed, malmgreen, marker, blend, stripp, extraction, cloud, kern, crawl, mitchell, guerard, srd, deep, gathering, simple, sudden, idaho, unfortunate, gat, woong-bae, rha, sources., parts., federally, u.s.-, briefing, low-price, 12-nation, preferential, minoru, endo, unfounded, herring, prohibit, unprocessed, salmon, herre, stiff, 3-1/2, algerian, counterpart, belkacem, nabi, ap, permament, alick, buchanan-smith, diving, buchanan, snith, brent-grade, style, britian, oil-consuming, oil-producing, hal, february., nugent, oilpatch, lawmaker, revitalize, tertiary, coherent, way., deplore, shy, fertiliser, syndicate, six-year, seven-year, mhc, dlr/bbl, wrap, cap, drag, u.s.protectionism, eec, retaliate., ec-u.s., u.s.-ec, brink, reesentment, unilaterally, deadlines., commuity, better., bypass, agreeeement, arbiter, interpret, wonder, 49-1/8, accomplish, load, financier, route, yeutter, carlos, drawdown, preparatory, petrleum, strive, faith, short-covering, quiet, dead, unbalanced, limitation, balance., honour, diversity, ht, bko, ike, kerridge, belgolux, belgo-luxembourg, bleu, half-point, broad-based, 12-member, kaputin, privileged, beneficiary, kina, exactly, undersecretary, wallis, domestic-led, supercomputer, kansai, jeopardy, fundamentally, labour, heighten, chartered, polish, poland, precise, hypothetical, blur, illusory, excuse, under-, achieving, favoured, suppression, martial, devise, offshoot, envoy, extrapolate, freely, theoretical, evaluation., illusion, misunderstanding, phenomenon, nebulous, curbing, janusz, kaczurba, pap, uncommonly, dlrs., moral, torpedoing, ice, pole, immorally, solidarity., wladyslaw, baka, partners., debt., obstruct, superpower, cooperate, anatolian, egyptian, overproduction, arabian, overprice, country-by-country, gabon, decree, gazette, interest., mike, ocean, warwick, leed, dresdner, exit, amstutz, underestimate, detect., proceeding, administer, newsprint, greatly, carroll, proportionately, georgia, rip, archer, taper, gnt, independently, prestige, financially, wilderness, premdor, ho, peninsula, staley, coke, cpl, desjardin, visa, confederation, caisses, populaires, d'economie, desjardins, unpaid, billing, designate, petroleo, pdvsa, doe, herrington, better, tap, neighbour, dollar/yen, urging, diet, populous, ratification, unofficial, safe, forbid, crumble, cautiously, absorb, craa., a/, dependence, li, petition, prospective, ferdinand, marco, now., relieve, pall, 8-1/2, mediator, picken, accrue, importance, firming, quake, pile, paralyse, society, perceive, tarrif, equatorial, equa, casey, dia, unpleasant, demonstration, occurrence, felipe, gonzalez, maximium, companion, anticipation, nice, revalue, gesture, backing, hypothesis, jurisdiction, understandably, dennis, eradicate, inhibit, legitimate, opecna, secretariat, price., biannual, noticeably, month., lifter, entail, extraordinrary, matrix, seven-state, assertion, entrant, fortune, constant, cook, carlucci, mthly, sc, pre-budget, penal, 11-3/4, drew, three-quarters, rates., 1.5798/808, 1.5650/60, 2.8900/60, 2.8720/50, re-rating, fellner, bout, bet, upheaval, harmful, pause, guess, egpc, ras, bahar, stockbroker, prudential, ward, buildup, inflate, striking, almir, fault, harbour, kit, tandem, yellow, 3/8, hurdle, 3-3/4, underproduce, correct., propuce, 75-100, refiner-buyer, free-for-all, seven-nation, twice-postponed, grades., fibre, mississippi, pearl, encounter, u.s.-european, harmony, bailey, attendance, tension, jean-claude, paye, franz-josef, feiter, heed, differentiate, disparity, profit-taking, suport, bouy, depression, rescheduling, simmon, phil, icg, compose, noir, yugoslavian, egon, padovan, wmx, safeguard, purusant, internationally, douglas, anybody, marketplace, ankara, yalim, eralp, territorial, berne, iea, cutback, norbec, leeway, 0.1-0.2, 0.2-0.3, yanbu, ngl, centrally, non-conventional, tar, processie, curtailment, refinancing, isthmus, maya, axp, incline, pbt, welfare, stone, sto, ^m, allowable, g-6, culminate, start., steward, ominous, society., illinois, evan, indefinitely, pumping, corporacion, estatal, petrolera, ecuatoriana, tremor, salado, aguarico, reventador, volcano, epicentre, seismologist, 12-point, mercalli, ecaudor, property-casualty, bush, imediately, temperton, 72-73, cox, ebc, amro, one-week, hoare, govett, run-up, glory, ian, harwood, mercury, confound, excitement, 3/4, pertain, three-months, sovereign, writer, kilometer, comparative, shake, greet, jacobson, destocking, ultimate, indefintiely, short-haul, scarce, readily, skeptic, hanke, friedburg, quotas., government-to-government, resold, anniversary, repeal, out-of-pocket, lumber, random, eve, assert, persaude, collision, pete, 7-1/8, stumble, beaufort, hinder, vacuum, algier, deploy, stablise, prices., petro-chemical, fishery, coradian, cdin, nicaragua, paraguay, intended, saskatchewan, flow-through, notification, u.n, m., glut, override, interpretation, re-export, apartheid, rationale, 24-hour, seven-day, one-month, two-month, three-, nine-months, 3-1/4, savings, fade, medium-sized, deck, consultative, iraq-turkey, landslide, adana, hurriyet, kirkuk, yumurtalik, alert, lago, agrio, balao, hook, eighth, hector, hurtado, unwillingness, sideways, 100-1/4, 5-3/4, 99-3/4, increased., fixed-rate, kassenobligation, fob, submission, taka, proper, discounted, nioc, colder, disguised, vlcc, individually, obligate, impair, whichever, advantageous, sell-out, woe, showdown, bipartisan, sept., grip, parking, contel, tumaco, desirable, lasting, japan., world-wide, anti-inflation, breakthrough, breathing, export-import, p., roxy, shape, chl, jwc, generous, loss-making, froze, abdelaziz, adequately, 2-3/4, roger, planner, throughput, have., roberto, fendt, govt, exact, deem, 6-1/2, untied, seminar, oil-dependent, expatriate, spate, doha, staunch, penalise, terribly, wealth, vat, one-for-two, fruitful, denomination, bolivar, mid-june, stopover, 9-1/2, 5-1/2, overshoot, sheikh, bin, sultan, tendency, irish, eagle, willy, clercq, mee, cyprus-based, authoritative, oil., entitlement, pan, ditch, mitsuru, uchida, waseda, memorandum, expiry, endorse, testing, outer, inherent, practical, range., scottish, flatten, transact, four-day, exports., reading, seperate, north-central, guerrilla, three-day, economical, joe, emergence, truly, boiler, stream, yukio, interchange, fledgling, depletion, violent, 50-minute, dramatic, dresser, di, ali, schlesinger, liberalise, 1980s, exploit, al-rai, al-aam, exert, genuine, nervousness, theirs, 13-member, fahd, doldrum, justification, wil, aramco, ex-partner, rearrange, piw, prince, porex, medco, containment, added., maxwell, iit, norske, stat, oljeselskap, stat.ol, statoil, haltenbanken, colony, voluntarily, peerless, softwood, countervail, bomb, quinn, dallas-based, comeback, ineffective, annoy, deserve, fulfill, 6-7/8, saddle, 1973-74, embargo, parish, displace, insistence, offical, facto, retroactive, market-related, tranche, 1987-92, oda, 28-day, 6.5p, sufficiently, ebullient, reputation, bloated, 1960s, finger, markka, 27.5p, peasant, peking, accusation, summon, suleiman, al-sabah, hisham, nazer, riyadh, architect, distortion, deeply, basix, bas, cultural, unjustified, deflect, realism, petronas, spoil, prosperity, advice, deflationary, fan, countenance, stability., abdul, rachman, ramly, 9-1/4, plough, 7-1/4, schlumberger, slb, rid, mmc, disturb, subdue, blip, encouraging, opec-led, srv, third-quarter, lasmo, billlion, trillium, transamerica, drummond, oilman, upsurge, speedy, armor, bilion, unnecessary, lpg, successor, minimize, perez, kharg, toy, coeur, d'alene, deduction, praise, issuer, bk, height, trace, pat, carney, distort, canadian-u.s., flaw, lunch, shut-in, potash, vow, downstream, corpus, christi, depositor, 20s, abundance, eager, foolish, foolishness., doing., testified, rack, amazing, japanese-made, 14th, traveler, nov., 30-year, corresponding, ivaco, 1-1/4, year., indebtedness, smooth, non-manufacturing, vice-foreign, zhou, nan, six-monthly, rotating, topple, fatal, unpopular, nakasone., flare, faction, today., ammunition, rei, shiratori, smoulder, nail, coffin, grave, hutchison, whampoa, discriminate, impatience, mede, akzo, akzo.as, signing, predatory, hit.t, kilobit, dram, oki, amortisation, compound, delicate, pain, cheung, sq, aims., ammonia, electromagnetic, categorically, rhetoric, terra, unabated, beyond., inflation., semiconducter, saver, kentucky, cntr, pearson, trustco, ceremony, welcoming, government-owned, verge, avery, escape, mlc, elk, sympathetic, discharge, elgin, captive, beneath, getty, nymex, shrug, underpin, hartford, quarter-point, mcculley, 26/27, aubrey, lanston, fomc, liro, pass., elizabeth, reiner, line., foreseeable, non-strategic, policymaker, industrialisation, viewpoint, debt-equity, six-member, g.c, goh, 5-1/16, 4-13/16, re-invest, tata, setter, bombay, enthusiastic, macsharry, punt, kearney, peop, fortnightly, engagement, 30-69, 30-124, 70-88, 125-150, 89-123, 151-173, 124-150, 174-182, 151-349, 183-349, 350-360, mtrc, von, cil, prescribed, 62-3/4, 83-1/8, 54-7/8, opertation, fos, capcity, mlotok, bunch, shaken, rough, fluctuating, post-budget, prt, henceforth, oil-related, prt-exempt, reallocation, tidy, incorrectly, ammendment, gareth, lewi, davy, mackenzie, edinburgh, osprey, arbroath, reward, bootle, safety-first, 9-11/16, simmond, electorate, tomrorow, one-point, analyse, small-print, 10-1/2, gel, pln, house-ordered, imports., pdvsa-champlin, eventuality, maturation, adapingthe, hydro-treating, difficultiesand, 80-85, ahme, wainco, wol, grandmarais, prspect, jefferson, frion, tweedel, perforation, untested, fhl, oapec, al-wattari, /oapec/opec, optimal, unviable, high-cost, full-fledged, euro-arab, allotment, anita, sar, venezuela-ecuador, fernando, alvite, remit, quito, creation, non-north, community/oapec/opec, geography, antonio, domenici, flawed, firstcorp, fcr, leather, reinveste, top-level, peaceful, al-khalifa, 13-nation, al-anba, less., opt, baht, mismatch, 10-3/8, lowering, mid-1987, dlrs/barrel, tapi, tradeable, aomi, mayor, roel, dunnen, twinned-port, drsd.f, longer-dated, routinely, hiring, platinum, rebel, handy, harman, pson.l, spr, oesterreichische, mood, saint, area., customarily, recording, well., gatt-approved, counter-reaction, threshhold, textile-state, review., bus, 20-month, neyra, earnng, coinage, nation-wide, profile, distinction, saf, essf.pa, sur, 1985-86, emhart, emh, chiefly, wrought, cenergy, crg, canterra, scotian, east-southeast, halifax, meter, lacey, mcentee, mcginley, karnosky, materialize, widerange, weave, florio, counterfeit, copyright, subversion, customs-cleared, yen/dollar, homeland, shiv, shanker, herbal, usher, balancing, newly-established, ke, stamp, new-found, underline, watchword, recklessness, dominance, explicitly, abdulaziz, al-salim, breakneck, tale, legendary, unpunished, outsized, non-tariff, octoer, high-yield, insured, surcharge, saudia, state-oil, 40-mln, micron, conviction, clear-cut, dampened, retracement, refco, connery, afterwhich, leiner, kahan, sizable, recur, automatically, pechiney, protocol, gosagroprom, vsevolod, murakhovsky, visnew, ahmed, zaki, yamani, scheduled., 13-year, over-production, measures., assemble, thrash, tihamah, abal-khail, oil-based, long-delayed, based., shipping-to-hotel, redec, fighter, taipei, lloy.l, resemble, instance, anonymous, questionnaire, carlton, ongpin, donor, failed, bank-led, libyan, crude., tripoli, inequality, covert, discretion, leon, febre, cordero, dignity, maintain., patricio, quevedo, staple, pariba, pre-finance, plight, 18-month, oil-financing, orginal, re-establishment, mid-east, renegotiate, cairo, year-old, youssri, mustapha, hosni, mubarak, salah, bassiouni, soviet-built, soviet-supplied, then-president, anwar, sadat, promised, intellectual, revolution, steering, unrealized, bonanza, simplify, legislate, mid-1984, centrally-planned, slacken, toughen, allegiance, frenzel, poeple, agreements., reluctantly, afl-cio, kirkland, president., jenkin, proponent, beset, decision-making, sovereignty, vulnerability, hut, cambridge, there., emerging., passionate, under-developed, under-employed, newfoundlander, albertan, prosperity., detial, published, trariff, ameritrust, franklin, lessening, downgrade, toned-down, r-mi., d-il., d-mo., d-ga., augusta, paolo, torino, loophole, subsidized, derivitive, eight-billion-dlr, mcdermott, mdr, sensible, subisdy, one., friends., jople, expense., disturbed, relations., aggravation, nomination, wellington, inter-agency, oil-dependency, harrington, nickle, overestimate, tantamount, syndication, osamu, oceanic, minsiter, honda, inexpensive, ingenuity, saito, lid, owen, atico, atfc, trico, tro, scurry-rainbow, strained, engere, pasta, strident, ill-advised, provocation, brinkmanship, self-centred, accommodation, tied-aid, effot, tied, intensive, 24-nation, hidden, lessor, psbr, avoidance, dual, systematic, syst, beacon, caljet, cryssen, edgington, orkin, lunday-thagard, ring-free, mock, petro-diamond, pressing, achieve., 5-6, question-and-answer, rash, quasijudicial, mechanisim, neighbor, mccain, be., mcclure, invoice, chip-maker, discouragement, 169-billion-dlr, 59-billion-dlr, matsui, novel, wanted, collaborate, bank-funded, java, wise, unsure, arifin, siregar, depreciate, inefficient, sidetrack, sepember, southerner, instil, tragedy., popularise, readjustment, negotiations., pirate, prauge, scotland, 700-acre, taupo, verging, super-computer, dawkin, bogge, protectionist., contemplative, ago., matter., baseless, saddam, hussein, over-reliance, apea, benbow, derive, oil-generated, 1992/93, undiscovered, 1980-84, non-middle, mcivor, super-giant, home-country, non-discriminatory, meare, /exxon, uncouple, uncoupling, taboo, pietsch, re-emerging, curve, accomodate, josef, koerner, ifo-institut, wan, ncso, tsomu, hata, neglect, rollback, practice., cracker, undamaged, ingolstadt, lavera, nowruz, rubble., deprive, ruler, ardeshir, month-long, lull, dresdn, bradstreet, capitalisation, donut, stifled, samaila, mamman, micro-chip, utmost, masaji, yamamoto, renege, diminishing., nipn.t, schultz, dram.o, rock-bottom, rebuttal, strange, publicize, tonka, tka, mcd, seismic, sfb, zero-point, qassem, taqi, agcny, ina, appointing, isam, abdul-rahim, al-chalaby, subhi, yassin, khadeir, abdel-jabbar, abdel-rahim, al-asadi, baath, hamza, al-zubeidi, al-zubedei, reshuffle, realisation, freedman, fumble, unionist, krapel, persuasive, jofree, exisite, adkerson, shuffle, shakeup, inoc, appointed, incompatible, cede, noncash, rotary, scale-back, overwhelm, substitution, entirely., ludicrous, immense, non-productive, rational, 'old, rrt, profit-based, deductibility, irritant, ridden, redouble, cut-rate, revitalise, barring, bitterly, negate, secondly, thirdly, collectively, davo, canada/u., concepcion, shine, quantitative, bae, 3.60/70, 3.75/85, openness, round., nt, timetable, ex-im, morton, draugen, rd.a, northermost, 240-270, 300-meter, single-leg, gravity-base, subsea, reservoir, buoy-loading, 3p, ch, nine-member, sudan, sudanese, add-need, crunch, czechoslovakia, soviet-bloc, democratic-controlled, bonker, highly-sensitive, optima, credit-card, pei-yuan, chia, mastercard, two-to-one, braddock, ones., melbourne, heavy-handed, japan/u., provident, trout, a14-8-89-3, w5m, northstar, tricentrol, vicinity, peanut, spice, tomato, puree, oil-tax, mid-continent, taxpayer., nic, scream, cerier, impediment, competiveness, doorstep, well-placed, fashionable, japan-bashing, nic-bashing, chandross, incipient, woong, chien-shien, big-ticket, balloon, wendt, overrall, koss, exorte, two-pronged, free-trade, teeth, namibia, rundown, injurious, widening, delighted, ouput, year-to-date, interest-straining, expansionist, dogmatically, baird, non-prt, annex, participator, prt-paying, kittiwake, corner, misguided, product-for-product, wrench, boomerang, andean, caf, galo, montano, parra, gil., bentsen, televise, abbey, almy, jointly-owned, deliberately, rhone-poulenc, drawback, laiohe, 140-well, 1979-81, anytime, comecon, soviet-led, non-recognition, maslen, no., zdzislaw, kuroski, questions., presented., ec-comecon, first-ever, goc, amauligak, mud, shoreline, barite, naturally, akzo-dupont, breaking, dutch-made, disputed, aramid, mnco, 20-member, thinh, channels., inducement, re-negotiating, dillard, american-caught, pollock, standby, infant, assset, comerica, s-k-i, probability, mortgage-backed, 7-3/8, amidst, dalian, txc, galaxy, fnb, frame, arbitrary, them., globalization, perspective, r.c, indexation, abdul-aziz, mana, al-oteiba, alexandria, 8-1/4, keller, government., gravity, loan-to-price, one-eighth, adjustable-rate, memotec, quarters., cnn, careful., anchorage, rospatch, cano, pessimism, naba., calender, 85-15, chase-amp, yannis, whittaker, wkr, whittak, liu, 11-1-1, fa, hwhh.hk, wonnacott, knotty, economics, univerity, coutervailing, natw, bcs.l, mdbl.l, staunchly, 8-3/4, 2004/08, 134-12/32, inexorable, delineation, newfoundland, economicly, terra-nova, hibernia, graven, flank, parex, foulke, strenuous, riase, rotberg, rah, woon, increases., pure, 5.63-65, 5.59-61, homeless, gigantic, napo, hardest-hit, pipelline, ande, brancho, corpse, bracho, lara, landslides., cayambe, editor, adjustable, dibona, unanimity, 3-mo, 6-mo, bond-equivalent, stopout, non-competitive, santana, upco, boone, heady, autobiography, sergey, frolov, amtorg, u.s.-ussr, post-detente, teach, shenzhen, strong-armed, recalcitrant, wolffe, marketeer, sneak, non-american, matt, aizawa, outfox, donovan, mmi, k.k, opens., communism, foreign-made, urgency., megabit, thorny, sia, are., stimulative, zaid, al-nahayan, nazir, viste, palestinian, 6-1/2-year-old, battlefield, 2.25p, creditanstalt-bankverein, phrase, jumardi, jukardi, hardjoko, seputro, megabank, troublesome, flagging, inflation-free, suggested., misgiving, will., libor, unacceptably, seaga, bno.to, co-head, interest-rate, ill-will, teran, tx.n, repaid, 180-day, caracas-based, rafael, velasco, point/oil, sandi, haber, sweeney, halliburton, vishnu, diversife, businesess, favorite, horde, gaspar, choosing, swarup, cabv.vi, hanne, androsch, re-confirm, disassociate, differentials., long-held, responsibly, tragic, tableland, 4-36-2-10w2, 17/64, 20/64, spacing, srb, influx, m-4, underperforme, 32nd, one-billion, near-instant, downpayment, bellwether, 10-9-7/8, significance., materialises., disquiet, politician, westminister, jordan-petrocanada, amman, nra, pciac, al-khatib, towe, 3-5, retaliation., concessions., hesitant, reasons., speaking, piracy, puchas, eia, despatch, overwhelming, democratic-sponsored, moderated, democratic-led, imec, france., advantage., jean-baptiste, doumeng, interagra, lent, propensity, regrettably, aturo, maracaibo, guayaquil, cnooc, lufeng, 13-1-1, stationery, pazzionotto, recurrent, longstanding, peterson, peckford, formula., transpire., dissociate, ability., lucky., semi, s.africa, gradin, black-ruled, front-line, anglo-dutch, p.j, hoenman, hair, decision., musk-oxen, inadquate, dispite, solv-ex, solv, up-front, mcmurray, athabasca, powerine, selm-societa, energia, priolo, 15th, 28th, 140-150, negative-netback, garrone, quirico, isab/garrone, mellili, 20-25th, siracusa, distillation, berre, l'etang, raffinage, cfr, visbreaker, bbl/day, outlook-ecopetrol, franciso, chona, samudio, arauca, narvaez, limon, hockin, clearcut, frightening, 'protectionism, balanced., assam, pre-equity, faithfully, unsellable, knock-down, legally, chronic, petrobra, suez-mediterranean, sedi, kerir, wilfred, wae, bmd, dww, soviet-w, east-west, stein, apholte, canadaina, sponsorship, receivables, calmness, reigning, minsitry, colon, bywater, lightweights., forego, antidumping, industory, closed-minister, quota., flashpoint, early., provincially, axworthy, harrassment, bumble, whatever., ming-yi, zhao, ziyang, samsung, mob.n, cmte, committess, tic, idly, studied., sector-specific, kid, non-canadian, morse, eali, foreign-based, liabilite, cmca, rediscount, 26-week, inseperable, re-negotiate, punte, ludolf, georg, wartenberg, cooling, watchfulness, moneyline, d-tex, hundre, weston, bkb, month-end, avy, 6-5/8, debt-burdened, prior-year, mariano, washington-based, mcc, al-qaba, rosemary, mcfadden, stave, u.s.-china, figure., alone., cobanco, cbco, bfd, larsen, blender, e.b.i, esquire, ee, obod, clri, cinram, o'malley, hnh, limp, hail, saviour, pace., 45-50, 30-40, fgrp, phi, all-star, novebmer, bdm, mrdn, coleco, clo, copany, clc, cabbage, handel, dahlberg, dahl, idbx, armr, readdress, yergin, cera, mizrahi, bpd., sprigg, bijan, moussavar-rahmani, torchmark, tmk, debenure, techamerica, tch, ka-shing, gsw, lana, mccall, mayf, alatenn, atng, munsingwear, mun, gti, famous, fam, authorizerd, shrortly, likeli, cct, clever, april., moves., mid-1960, 3.7495/98, 3.7500/03, khalifa, al-thani, one-twelfth, rationalise, shoulder, responsibilite, circumstance., over-producing, tanurah, ju'aymah, two-fold, jubail, ntt, ckgh.hk, 11-21, wako, regulation-free, ingvar, calrsson, carlsson, irritate, sub-cabinet, gamut, stop-over, end-week, frustrated., free-wheeling, tight-fisted, culprit, peeve, adverserial, well-thought-out, m.p, organiaation, chao-ming, export-earner, hkeh.hk, cavendish, non-electricity, reute, sdc, cronus, buildings., tue, porx, multi-step, restructurine, hsa, whittar, dofascoxinc, bertram-trojan, investcorp, benne, marrel, juster, daewoo, wimi, strob, strb, brenco, bren, mf, skii, kapok, kpk, humanistic, 15-18, k-tron, ktii, pdo, frm, duro-test, dur, internchange, isbj, 8-1/3, nesp, phcc, mcry, benguet, i.m., imsi, muo, jcb, payble, harley-davidson, hdi, cvgi, thunander, thdr, minneosta, dpcz, sigi, ziering, annal, ziere, immunological, dunkin, dunk, cccr, off-hour, debut, mckiernan, capozza, efp, trading., up-right, upri, self-confidence, post-war, crossborder, population., imposing, albertson, intec, intk, hydron, hyd, syntech, interenational, syne, cour, ltlp, wht, reit, raut, realmerica, raco, muncipal, mfm, pittway, pry, petrolite, plit, kapsis, kaya, erdem, seabe, inactive, telecredit, tcrd, lasr, life-health, pofit, shr/avg, kenca, bkne, whipple, comalco, cmac., goldendale, chip-export, usefulness, grey-market, fison, fisn.l, 24.3p, 3.95p, 3.34p, horticulture, tito, ayal, ayala, nueva, teapa, salina, lazaro, stcl.l, 15.9p, 4.5p, impute, bougainville, buva., iron-ore, argyle, unrealised, trans-shippe, communism., anti-communist, centralled, lever, ashton-tate, 25p, 575p, transponder, equitorial, inabiliuty, agreed-upon, oblitation, cross-default, earth, conteol, under-secretary, eishiro, sub-cabinet-level, antagonise, condemnation, weill, 30-123, administration., iif, horst, schulmann, orgnaization, levelling, finance., vak, zentralsparkasse, kommerzialbank, wien, hellmuth, klauh, genossenschaftliche, zentralbank, pale, oesterreichischen, sparkassen, girv.vi, haumer, erste, spar-casse-bank, mntl, bank-wilmington, no-fee, boatman, venezula, 1987-89, minneaplois, competitive., cardholder, royal/bank, tcf, ionterest, 5-7/8, upward., bank-houston, bacp, ncf, fannie, fnm, crowd, squaring, 30-273, 30-89, 274-294, 90-100, 295-344, 101-181, 345-360, 182-195, 196-274, 275-295, 296-360, 15-78, 15-81, 79-85, 82-88, 89-360, 89-174, 175-180, 181-360\n"
     ]
    }
   ],
   "source": [
    "print(\", \".join(vocabulary))"
   ]
  },
  {
   "cell_type": "markdown",
   "metadata": {},
   "source": [
    "You can see how many times article $i$ contains word $j$ using"
   ]
  },
  {
   "cell_type": "code",
   "execution_count": 4,
   "metadata": {},
   "outputs": [
    {
     "name": "stdout",
     "output_type": "stream",
     "text": [
      "4\n"
     ]
    }
   ],
   "source": [
    "i, j = 40, 2\n",
    "print(data[i,j])"
   ]
  },
  {
   "cell_type": "markdown",
   "metadata": {},
   "source": [
    "You can see which class the $i$th article belongs to using"
   ]
  },
  {
   "cell_type": "code",
   "execution_count": 5,
   "metadata": {},
   "outputs": [
    {
     "name": "stdout",
     "output_type": "stream",
     "text": [
      "0\n"
     ]
    }
   ],
   "source": [
    "print(labels[i])"
   ]
  },
  {
   "cell_type": "markdown",
   "metadata": {},
   "source": [
    "For instance, by running"
   ]
  },
  {
   "cell_type": "code",
   "execution_count": 6,
   "metadata": {},
   "outputs": [
    {
     "name": "stdout",
     "output_type": "stream",
     "text": [
      "Occurrences: 2\n",
      "Class: earn\n",
      "Word: shareholder\n"
     ]
    }
   ],
   "source": [
    "print(\"Occurrences:\", data[0,10])\n",
    "print(\"Class:\", class_names[labels[0]])\n",
    "print(\"Word:\", vocabulary[10])"
   ]
  },
  {
   "cell_type": "markdown",
   "metadata": {},
   "source": [
    "you can see that the 11th word appears twice in the first document, the first document belongs to the class \"earn\", and the 11th word is \"shareholder\"."
   ]
  },
  {
   "cell_type": "markdown",
   "metadata": {},
   "source": [
    "The following function randomly selects a subset of the data."
   ]
  },
  {
   "cell_type": "code",
   "execution_count": 7,
   "metadata": {},
   "outputs": [],
   "source": [
    "def sample_indices(labels, *num_per_class):\n",
    "    \"\"\"\n",
    "    Returns randomly selected indices. It will return the specified number of indices for each class.\n",
    "    \"\"\"\n",
    "    indices = []\n",
    "    for cls, num in enumerate(num_per_class):\n",
    "        cls_indices = np.where(labels == cls)[0]\n",
    "        indices.extend(np.random.choice(cls_indices, size=num, replace=False))\n",
    "    return np.array(indices)"
   ]
  },
  {
   "cell_type": "markdown",
   "metadata": {},
   "source": [
    "For instance, to get one sample from the first class, two from the second, three from the third, and four from the fourth, you can run:"
   ]
  },
  {
   "cell_type": "code",
   "execution_count": 8,
   "metadata": {},
   "outputs": [
    {
     "name": "stdout",
     "output_type": "stream",
     "text": [
      "Returned indices: [156 358 338 514 584 471 730 723 755 775]\n",
      "Samples:   (0, 6295)\t2\n",
      "  (0, 6228)\t2\n",
      "  (0, 2064)\t2\n",
      "  (0, 1819)\t1\n",
      "  (0, 812)\t1\n",
      "  (0, 694)\t2\n",
      "  (0, 684)\t2\n",
      "  (0, 622)\t2\n",
      "  (0, 411)\t1\n",
      "  (0, 410)\t2\n",
      "  (0, 374)\t2\n",
      "  (0, 349)\t1\n",
      "  (0, 346)\t1\n",
      "  (0, 236)\t1\n",
      "  (0, 187)\t1\n",
      "  (0, 176)\t1\n",
      "  (0, 157)\t1\n",
      "  (0, 21)\t2\n",
      "  (0, 13)\t1\n",
      "  (0, 10)\t1\n",
      "  (0, 5)\t2\n",
      "  (0, 2)\t1\n",
      "  (1, 3923)\t1\n",
      "  (1, 3716)\t1\n",
      "  (1, 3681)\t1\n",
      "  :\t:\n",
      "  (9, 2126)\t1\n",
      "  (9, 1898)\t1\n",
      "  (9, 1861)\t2\n",
      "  (9, 1555)\t1\n",
      "  (9, 1502)\t1\n",
      "  (9, 1501)\t1\n",
      "  (9, 1499)\t4\n",
      "  (9, 984)\t3\n",
      "  (9, 837)\t2\n",
      "  (9, 720)\t1\n",
      "  (9, 685)\t1\n",
      "  (9, 668)\t3\n",
      "  (9, 490)\t1\n",
      "  (9, 456)\t2\n",
      "  (9, 404)\t1\n",
      "  (9, 378)\t2\n",
      "  (9, 332)\t5\n",
      "  (9, 235)\t3\n",
      "  (9, 220)\t2\n",
      "  (9, 215)\t1\n",
      "  (9, 98)\t2\n",
      "  (9, 59)\t1\n",
      "  (9, 23)\t4\n",
      "  (9, 13)\t1\n",
      "  (9, 5)\t2\n",
      "Corresponding classes: [0 1 1 2 2 2 3 3 3 3]\n"
     ]
    }
   ],
   "source": [
    "indices = sample_indices(labels, 1, 2, 3, 4)\n",
    "print(\"Returned indices:\", indices)\n",
    "print(\"Samples:\", data[indices])\n",
    "print(\"Corresponding classes:\", labels[indices])"
   ]
  },
  {
   "cell_type": "markdown",
   "metadata": {},
   "source": [
    "## 3. k-NN implementation\n",
    "\n",
    "Now, you will need to implement a k-NN classifier by filling the code below.\n",
    "This function should support two types of distance measures: Euclidean distance and cosine distance.\n",
    "It should take a set of training samples, a user-specified neighbour number, a distance option, and features of a set of testing samples as the input.\n",
    "It should return the predicted classes for the input set of testing samples.\n",
    "\n",
    "In order to complete this function, you will need the `sklearn.metrics.pairwise_distances` function which can handle sparse matrices, below imported as `cdist` to follow SciPy conventions (not to be confused with the `pdist` function).\n",
    "You should also research NumPy functions relating to sorting.\n",
    "\n",
    "**Your implementation must NOT make use of Python loops over individual samples or features**.\n",
    "You should use functions that operate on whole matrices, as this will be much faster than looping in Python.\n",
    "Each experiment below is expected to take no more than 2 minutes to run."
   ]
  },
  {
   "cell_type": "code",
   "execution_count": 19,
   "metadata": {},
   "outputs": [],
   "source": [
    "import scipy.stats\n",
    "from numpy import shape\n",
    "from sklearn.metrics import pairwise_distances as cdist\n",
    "from collections import Counter #frequency of the first k neighbours\n",
    "\n",
    "def knn_classify(test_samples, training_data, training_labels, input_metric=\"euclidean\", k=1):\n",
    "    \"\"\"\n",
    "    Performs k-nearest neighbour classification on the provided samples,\n",
    "    given training data and the corresponding labels.\n",
    "    \n",
    "    test_samples: An m x d matrix of m samples to classify, each with d features.\n",
    "    training_data: An n x d matrix consisting of n training samples, each with d features.\n",
    "    training_labels: A vector of size n, where training_labels[i] is the label of training_data[i].\n",
    "    metric: The metric to use for calculating distances between samples.\n",
    "    k: The number of nearest neighbours to use for classification.\n",
    "    \n",
    "    Returns: A vector of size m, where out[i] is the predicted class of test_samples[i].\n",
    "    \"\"\"\n",
    "    # Calculate an m x n distance matrix.\n",
    "    pairwise_distance = cdist(test_samples,training_data, metric=input_metric)\n",
    "    \n",
    "    \n",
    "    indices = np.argsort(pairwise_distance)\n",
    "    m=shape(test_samples)[0]   \n",
    "    n=shape(training_data)[0]\n",
    "    d=shape(test_samples)[1]\n",
    "    \n",
    "    # Find the k nearest neighbours of each samples as an m x k matrix of indices.\n",
    "    nearest_neighbours = indices[:,0:k]\n",
    "    \n",
    "    # Look up the classes corresponding to each index.\n",
    "    \n",
    "    nearest_labels = []\n",
    "    nearest_labels = training_labels[nearest_neighbours] # the labels for the first k neighbours\n",
    "    \n",
    "    out = []\n",
    "    #for i in range (0,m):\n",
    "        #out.append(Counter(nearest_labels[i]).most_common(1)[0][0])    \n",
    "    out = scipy.stats.mode(nearest_labels, axis = 1)[0].squeeze()    \n",
    "    return np.array(out)            \n",
    "    # Return the most frequent class on each row.\n",
    "    # Note: Ensure that the returned vector does not contain any empty dimensions.\n",
    "    # You may find the squeeze method useful here.\n"
   ]
  },
  {
   "cell_type": "markdown",
   "metadata": {},
   "source": [
    "## 4. Experiments\n",
    "\n",
    "Use your k-NN function to perform the following experiments.\n",
    "\n",
    "### Experiment 1\n",
    "\n",
    "Randomly select 80 articles per class for training, and use the remaining articles for testing.\n",
    "Select an appropriate neighbour number.\n",
    "Train your k-NN classifier using the Euclidean distance and test it.\n",
    "Repeat this process 20 times (trials).\n",
    "Calculate the mean and standard deviation of the testing accuracies."
   ]
  },
  {
   "cell_type": "code",
   "execution_count": 20,
   "metadata": {},
   "outputs": [
    {
     "name": "stdout",
     "output_type": "stream",
     "text": [
      "\n",
      "Mean of the testing accuracies over 20 samples is: 80.67708333333331\n",
      "Standard deviation is: 4.281173965261553\n"
     ]
    }
   ],
   "source": [
    "# Your code goes here\n",
    "def train(input_metric=\"euclidean\", k=1):\n",
    "    global test_samples\n",
    "    global training_data\n",
    "    global training_labels\n",
    "    global unmarked_indices\n",
    "    global labels\n",
    "    \n",
    "    import random\n",
    "    indices = sample_indices(labels, 80,80,80,80) #indices for training samples\n",
    "    training_data = data[indices]  # 320 randomly selected articles , 80 from each class\n",
    "    training_labels = labels[indices]  #the class the i'th article belongs to\n",
    "    \n",
    "    all_indices = np.arange(800) #create a list of indices from 0..799\n",
    "    np.delete(all_indices,indices) #remove the indices already used for training\n",
    "    test_samples = data[all_indices] #select articles for testing\n",
    "        \n",
    "    output = knn_classify(test_samples, training_data, training_labels, input_metric, k) #run knn and store result in output\n",
    "\n",
    "    cnt=0 #counter for number of articles matched correctly\n",
    "    for i in range(0,480):\n",
    "        if(labels[all_indices[i]] == output[i]): #if there is a match\n",
    "            #print(\"ML says Article \"+str(test_samples[i])+\" belongs to class \"+str(output[i]) +\", which is TRUE :D\")\n",
    "            cnt+=1\n",
    "        #else:\n",
    "            #print(\"ML says Article \"+str(test_samples[i])+\" belongs to class \"+str(output[i]) +\", which is FALSE :(\")\n",
    "    #print(\"Accuracy for k = \"+str(k)+ \" is:\" +str(cnt/480*100)+\"%\")\n",
    "    return cnt/480*100 #return accuracy\n",
    "\n",
    "x = []\n",
    "sum = 0;\n",
    "for i in range (0,20):  #20 trials for fixed k=10\n",
    "    x.append(train(\"euclidean\",10))\n",
    "    sum+=x[i-1] #get the sum of accuracies\n",
    "    \n",
    "print()\n",
    "mean = sum/20 #get the mean of accuracies\n",
    "print(\"Mean of the testing accuracies over 20 samples is: \"+ str(mean)) #print mean\n",
    "print(\"Standard deviation is: \"+ str(np.std(x))) #print standard deviation\n"
   ]
  },
  {
   "cell_type": "markdown",
   "metadata": {},
   "source": [
    "Use the same neighbour number, but use the cosine distance instead of the Euclidean distance.\n",
    "Repeat the same experiment."
   ]
  },
  {
   "cell_type": "code",
   "execution_count": 21,
   "metadata": {},
   "outputs": [
    {
     "name": "stdout",
     "output_type": "stream",
     "text": [
      "\n",
      "Mean of the testing accuracies over 20 samples is: 96.6875\n",
      "Standard deviation is: 0.41392326013136244\n"
     ]
    }
   ],
   "source": [
    "# Your code goes here\n",
    "y = []\n",
    "sum = 0;\n",
    "for i in range (0,20):    \n",
    "    y.append(train(\"cosine\",10))\n",
    "    sum+=y[i-1]  #get the sum of accuracies\n",
    "    \n",
    "print()\n",
    "mean = sum/20  #get the mean of accuracies\n",
    "print(\"Mean of the testing accuracies over 20 samples is: \"+ str(mean))\n",
    "print(\"Standard deviation is: \"+ str(np.std(y)))\n"
   ]
  },
  {
   "cell_type": "markdown",
   "metadata": {},
   "source": [
    "Which distance measure gives better performance?"
   ]
  },
  {
   "cell_type": "raw",
   "metadata": {},
   "source": [
    "cosine"
   ]
  },
  {
   "cell_type": "markdown",
   "metadata": {},
   "source": [
    "### Experiment 2\n",
    "\n",
    "Using the distance measure that you found performs better, repeat the same experiment, varying the neighbour number $k$ from 1 to 50.\n",
    "This time, record the average training errors and standard deviation over 20 trials, for different values of $k$.\n",
    "Do the same for testing errors."
   ]
  },
  {
   "cell_type": "code",
   "execution_count": 22,
   "metadata": {
    "scrolled": true
   },
   "outputs": [
    {
     "name": "stdout",
     "output_type": "stream",
     "text": [
      "\n",
      "Mean of the training errors over 20 samples is: 0.0\n",
      "Standard deviation is: 0.0\n",
      "\n",
      "Mean of the training errors over 20 samples is: 1.609375\n",
      "Standard deviation is: 0.6980721219902711\n",
      "\n",
      "Mean of the training errors over 20 samples is: 1.75\n",
      "Standard deviation is: 0.6945659615904022\n",
      "\n",
      "Mean of the training errors over 20 samples is: 2.21875\n",
      "Standard deviation is: 0.7934977453496639\n",
      "\n",
      "Mean of the training errors over 20 samples is: 2.4375\n",
      "Standard deviation is: 0.7454287776172852\n",
      "\n",
      "Mean of the training errors over 20 samples is: 2.765625\n",
      "Standard deviation is: 0.6404344228724749\n",
      "\n",
      "Mean of the training errors over 20 samples is: 2.625\n",
      "Standard deviation is: 0.7467376965842826\n",
      "\n",
      "Mean of the training errors over 20 samples is: 3.09375\n",
      "Standard deviation is: 0.9503031999709356\n",
      "\n",
      "Mean of the training errors over 20 samples is: 3.5625\n",
      "Standard deviation is: 0.8609360821222444\n",
      "\n",
      "Mean of the training errors over 20 samples is: 3.296875\n",
      "Standard deviation is: 0.7868548945008857\n",
      "\n",
      "Mean of the training errors over 20 samples is: 3.375\n",
      "Standard deviation is: 0.7543817315358319\n",
      "\n",
      "Mean of the training errors over 20 samples is: 3.546875\n",
      "Standard deviation is: 0.6208848901970477\n",
      "\n",
      "Mean of the training errors over 20 samples is: 3.625\n",
      "Standard deviation is: 0.59375\n",
      "\n",
      "Mean of the training errors over 20 samples is: 3.703125\n",
      "Standard deviation is: 0.8974519050483987\n",
      "\n",
      "Mean of the training errors over 20 samples is: 3.921875\n",
      "Standard deviation is: 0.9806477052820753\n",
      "\n",
      "Mean of the training errors over 20 samples is: 3.859375\n",
      "Standard deviation is: 0.673145600891813\n",
      "\n",
      "Mean of the training errors over 20 samples is: 3.75\n",
      "Standard deviation is: 0.8267972847076845\n",
      "\n",
      "Mean of the training errors over 20 samples is: 3.84375\n",
      "Standard deviation is: 0.8528158780621993\n",
      "\n",
      "Mean of the training errors over 20 samples is: 4.578125\n",
      "Standard deviation is: 0.78125\n",
      "\n",
      "Mean of the training errors over 20 samples is: 4.265625\n",
      "Standard deviation is: 0.7293712510614879\n",
      "\n",
      "Mean of the training errors over 20 samples is: 4.203125\n",
      "Standard deviation is: 0.6808987052969039\n",
      "\n",
      "Mean of the training errors over 20 samples is: 4.25\n",
      "Standard deviation is: 0.5455340703155028\n",
      "\n",
      "Mean of the training errors over 20 samples is: 4.046875\n",
      "Standard deviation is: 0.7302075903467452\n",
      "\n",
      "Mean of the training errors over 20 samples is: 4.71875\n",
      "Standard deviation is: 0.8776466668739761\n",
      "\n",
      "Mean of the training errors over 20 samples is: 4.34375\n",
      "Standard deviation is: 1.165084492644203\n",
      "\n",
      "Mean of the training errors over 20 samples is: 4.703125\n",
      "Standard deviation is: 1.0358561902479513\n",
      "\n",
      "Mean of the training errors over 20 samples is: 4.09375\n",
      "Standard deviation is: 1.031131621993526\n",
      "\n",
      "Mean of the training errors over 20 samples is: 4.671875\n",
      "Standard deviation is: 1.0383279828647594\n",
      "\n",
      "Mean of the training errors over 20 samples is: 5.0625\n",
      "Standard deviation is: 1.1287913544473132\n",
      "\n",
      "Mean of the training errors over 20 samples is: 4.765625\n",
      "Standard deviation is: 1.0517609860966513\n",
      "\n",
      "Mean of the training errors over 20 samples is: 5.078125\n",
      "Standard deviation is: 0.8112971866091981\n",
      "\n",
      "Mean of the training errors over 20 samples is: 5.015625\n",
      "Standard deviation is: 0.9071923979371741\n",
      "\n",
      "Mean of the training errors over 20 samples is: 5.1875\n",
      "Standard deviation is: 1.283154072977988\n",
      "\n",
      "Mean of the training errors over 20 samples is: 5.03125\n",
      "Standard deviation is: 1.243734296383275\n",
      "\n",
      "Mean of the training errors over 20 samples is: 5.1875\n",
      "Standard deviation is: 0.8831926725664112\n",
      "\n",
      "Mean of the training errors over 20 samples is: 5.65625\n",
      "Standard deviation is: 1.1662364348085683\n",
      "\n",
      "Mean of the training errors over 20 samples is: 5.78125\n",
      "Standard deviation is: 1.0591629581301454\n",
      "\n",
      "Mean of the training errors over 20 samples is: 6.015625\n",
      "Standard deviation is: 0.9756558291093228\n",
      "\n",
      "Mean of the training errors over 20 samples is: 5.28125\n",
      "Standard deviation is: 1.0655975069767196\n",
      "\n",
      "Mean of the training errors over 20 samples is: 6.203125\n",
      "Standard deviation is: 1.2803922433672426\n",
      "\n",
      "Mean of the training errors over 20 samples is: 5.921875\n",
      "Standard deviation is: 0.9447635286144359\n",
      "\n",
      "Mean of the training errors over 20 samples is: 6.21875\n",
      "Standard deviation is: 1.0780117694162712\n",
      "\n",
      "Mean of the training errors over 20 samples is: 5.609375\n",
      "Standard deviation is: 1.1869859084567937\n",
      "\n",
      "Mean of the training errors over 20 samples is: 5.859375\n",
      "Standard deviation is: 1.029828565830255\n",
      "\n",
      "Mean of the training errors over 20 samples is: 5.515625\n",
      "Standard deviation is: 1.0756311737184823\n",
      "\n",
      "Mean of the training errors over 20 samples is: 6.078125\n",
      "Standard deviation is: 1.069371164516792\n",
      "\n",
      "Mean of the training errors over 20 samples is: 6.578125\n",
      "Standard deviation is: 0.8943180013283866\n",
      "\n",
      "Mean of the training errors over 20 samples is: 5.921875\n",
      "Standard deviation is: 1.0655975069767196\n",
      "\n",
      "Mean of the training errors over 20 samples is: 6.03125\n",
      "Standard deviation is: 0.9652153257175313\n",
      "\n",
      "Mean of the training errors over 20 samples is: 6.078125\n",
      "Standard deviation is: 0.9296546737902198\n",
      "\n",
      "Mean of the testing errors over 20 samples is: 2.270833333333335\n",
      "Standard deviation is: 0.7314695776691981\n",
      "\n",
      "Mean of the testing errors over 20 samples is: 2.2395833333333344\n",
      "Standard deviation is: 0.7725206757391316\n",
      "\n",
      "Mean of the testing errors over 20 samples is: 2.843749999999999\n",
      "Standard deviation is: 0.9535091438995208\n",
      "\n",
      "Mean of the testing errors over 20 samples is: 3.114583333333333\n",
      "Standard deviation is: 0.691277500959874\n",
      "\n",
      "Mean of the testing errors over 20 samples is: 3.15625\n",
      "Standard deviation is: 0.4934466367636234\n",
      "\n",
      "Mean of the testing errors over 20 samples is: 2.9270833333333335\n",
      "Standard deviation is: 0.49695251841152205\n",
      "\n",
      "Mean of the testing errors over 20 samples is: 3.375000000000001\n",
      "Standard deviation is: 0.6189814381977303\n",
      "\n",
      "Mean of the testing errors over 20 samples is: 3.6249999999999987\n",
      "Standard deviation is: 0.5791329426632332\n",
      "\n",
      "Mean of the testing errors over 20 samples is: 3.4166666666666643\n",
      "Standard deviation is: 0.4340138886666581\n",
      "\n",
      "Mean of the testing errors over 20 samples is: 3.3541666666666665\n",
      "Standard deviation is: 0.5456583689045322\n",
      "\n",
      "Mean of the testing errors over 20 samples is: 3.520833333333332\n",
      "Standard deviation is: 0.4898049143961966\n",
      "\n",
      "Mean of the testing errors over 20 samples is: 3.645833333333332\n",
      "Standard deviation is: 0.42235697776485753\n",
      "\n",
      "Mean of the testing errors over 20 samples is: 4.197916666666665\n",
      "Standard deviation is: 0.5140179079781404\n",
      "\n",
      "Mean of the testing errors over 20 samples is: 3.947916666666665\n",
      "Standard deviation is: 0.5327796605226824\n",
      "\n",
      "Mean of the testing errors over 20 samples is: 3.5624999999999987\n",
      "Standard deviation is: 0.5569751827206174\n",
      "\n",
      "Mean of the testing errors over 20 samples is: 3.8229166666666643\n",
      "Standard deviation is: 0.4890289414293934\n",
      "\n",
      "Mean of the testing errors over 20 samples is: 3.8020833333333313\n",
      "Standard deviation is: 0.5212498334665322\n",
      "\n",
      "Mean of the testing errors over 20 samples is: 3.9583333333333313\n",
      "Standard deviation is: 0.4956407188904293\n",
      "\n",
      "Mean of the testing errors over 20 samples is: 3.968749999999999\n",
      "Standard deviation is: 0.35155285480595994\n",
      "\n",
      "Mean of the testing errors over 20 samples is: 4.08333333333333\n",
      "Standard deviation is: 0.3847121940129057\n",
      "\n",
      "Mean of the testing errors over 20 samples is: 4.135416666666667\n",
      "Standard deviation is: 0.5198949880611562\n",
      "\n",
      "Mean of the testing errors over 20 samples is: 3.812499999999998\n",
      "Standard deviation is: 0.4952026801668616\n",
      "\n",
      "Mean of the testing errors over 20 samples is: 3.9999999999999987\n",
      "Standard deviation is: 0.45452967144315376\n",
      "\n",
      "Mean of the testing errors over 20 samples is: 4.291666666666666\n",
      "Standard deviation is: 0.5412658773652759\n",
      "\n",
      "Mean of the testing errors over 20 samples is: 4.177083333333334\n",
      "Standard deviation is: 0.4950931099298411\n",
      "\n",
      "Mean of the testing errors over 20 samples is: 4.072916666666665\n",
      "Standard deviation is: 0.625347125825151\n",
      "\n",
      "Mean of the testing errors over 20 samples is: 4.072916666666665\n",
      "Standard deviation is: 0.3749999999999987\n",
      "\n",
      "Mean of the testing errors over 20 samples is: 4.302083333333332\n",
      "Standard deviation is: 0.42440726640548876\n",
      "\n",
      "Mean of the testing errors over 20 samples is: 4.156249999999998\n",
      "Standard deviation is: 0.4516559039308082\n",
      "\n",
      "Mean of the testing errors over 20 samples is: 4.291666666666666\n",
      "Standard deviation is: 0.628117226320056\n",
      "\n",
      "Mean of the testing errors over 20 samples is: 4.447916666666665\n",
      "Standard deviation is: 0.5331868288362429\n"
     ]
    },
    {
     "name": "stdout",
     "output_type": "stream",
     "text": [
      "\n",
      "Mean of the testing errors over 20 samples is: 4.479166666666663\n",
      "Standard deviation is: 0.4473106365330022\n",
      "\n",
      "Mean of the testing errors over 20 samples is: 4.562500000000002\n",
      "Standard deviation is: 0.5962120008855941\n",
      "\n",
      "Mean of the testing errors over 20 samples is: 4.489583333333331\n",
      "Standard deviation is: 0.4950931099298429\n",
      "\n",
      "Mean of the testing errors over 20 samples is: 4.635416666666665\n",
      "Standard deviation is: 0.5198949880611597\n",
      "\n",
      "Mean of the testing errors over 20 samples is: 4.666666666666666\n",
      "Standard deviation is: 0.556195378092189\n",
      "\n",
      "Mean of the testing errors over 20 samples is: 4.562499999999998\n",
      "Standard deviation is: 0.5814702390397053\n",
      "\n",
      "Mean of the testing errors over 20 samples is: 4.770833333333334\n",
      "Standard deviation is: 0.48007160924179026\n",
      "\n",
      "Mean of the testing errors over 20 samples is: 4.76041666666667\n",
      "Standard deviation is: 0.357672598195615\n",
      "\n",
      "Mean of the testing errors over 20 samples is: 4.885416666666668\n",
      "Standard deviation is: 0.4630439743936036\n",
      "\n",
      "Mean of the testing errors over 20 samples is: 4.739583333333333\n",
      "Standard deviation is: 0.4677071733467465\n",
      "\n",
      "Mean of the testing errors over 20 samples is: 4.593749999999998\n",
      "Standard deviation is: 0.5289984968997792\n",
      "\n",
      "Mean of the testing errors over 20 samples is: 4.958333333333336\n",
      "Standard deviation is: 0.42427941363367533\n",
      "\n",
      "Mean of the testing errors over 20 samples is: 5.052083333333334\n",
      "Standard deviation is: 0.5998408353703337\n",
      "\n",
      "Mean of the testing errors over 20 samples is: 4.989583333333334\n",
      "Standard deviation is: 0.5628856702544304\n",
      "\n",
      "Mean of the testing errors over 20 samples is: 4.947916666666668\n",
      "Standard deviation is: 0.6059599821770428\n",
      "\n",
      "Mean of the testing errors over 20 samples is: 5.000000000000002\n",
      "Standard deviation is: 0.5530651646857627\n",
      "\n",
      "Mean of the testing errors over 20 samples is: 4.989583333333335\n",
      "Standard deviation is: 0.5335936864527401\n",
      "\n",
      "Mean of the testing errors over 20 samples is: 4.854166666666667\n",
      "Standard deviation is: 0.4808620369826595\n",
      "\n",
      "Mean of the testing errors over 20 samples is: 4.875000000000001\n",
      "Standard deviation is: 0.49945717061403655\n"
     ]
    }
   ],
   "source": [
    "# Your code goes here\n",
    "def train2(input_metric=\"euclidean\", k=1):\n",
    "    global test_samples\n",
    "    global training_data\n",
    "    global training_labels\n",
    "    global labels\n",
    "    global nearest_labels\n",
    "    \n",
    "    import random\n",
    "    indices = sample_indices(labels, 80,80,80,80) #indices for training samples\n",
    "    training_data = data[indices]  # 320 randomly selected articles , 80 from each class\n",
    "    training_labels = labels[indices]  #the class the i'th article belongs to\n",
    "    \n",
    "    output = knn_classify(training_data, training_data, training_labels, input_metric, k)\n",
    "    cnt=0\n",
    "    for i in range(0,320):\n",
    "        if(labels[indices[i]]==output[i]): #article i was used for testing, not for training\n",
    "             #print(\"ML says Article \"+str(unmarked_indices[i])+\" belongs to class \"+str(output[i]) +\", which is TRUE :D\")\n",
    "            cnt+=1\n",
    "        #else:\n",
    "            #print(\"ML says Article \"+str(unmarked_indices[i])+\" belongs to class \"+str(output[i]) +\", which is FALSE :(\")\n",
    "    #print(\"Accuracy for k = \"+str(k)+ \" is:\" +str(cnt/480*100)+\"%\")\n",
    "    return 100-(cnt/320*100)\n",
    "\n",
    "results_from_training = []\n",
    "for k in range(1,51):\n",
    "    z = []\n",
    "    sum = 0;\n",
    "    for i in range (0,20):    \n",
    "        z.append(train2(\"cosine\",k))\n",
    "        sum+=z[i-1]\n",
    "    \n",
    "    print()\n",
    "    mean = sum/20\n",
    "    print(\"Mean of the training errors over 20 samples is: \"+ str(mean))\n",
    "    print(\"Standard deviation is: \"+ str(np.std(z)))\n",
    "    results_from_training.append(mean)\n",
    "    \n",
    "results_from_testing = []\n",
    "for k in range(1,51):\n",
    "    z = []\n",
    "    sum = 0;\n",
    "    for i in range (0,20):    \n",
    "        z.append(100 - train(\"cosine\",k))\n",
    "        sum+=z[i-1]\n",
    "    \n",
    "    print()\n",
    "    mean = sum/20\n",
    "    mean = mean;\n",
    "    print(\"Mean of the testing errors over 20 samples is: \"+ str(mean))\n",
    "    print(\"Standard deviation is: \"+ str(np.std(z)))\n",
    "    results_from_testing.append(mean)\n"
   ]
  },
  {
   "cell_type": "markdown",
   "metadata": {},
   "source": [
    "Produce an error bar plot showing the training accuracy for each $k$ here:"
   ]
  },
  {
   "cell_type": "code",
   "execution_count": 23,
   "metadata": {},
   "outputs": [
    {
     "data": {
      "image/png": "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\n",
      "text/plain": [
       "<Figure size 432x288 with 1 Axes>"
      ]
     },
     "metadata": {
      "needs_background": "light"
     },
     "output_type": "display_data"
    }
   ],
   "source": [
    "from matplotlib import pyplot as plt\n",
    "\n",
    "x = np.arange(50)\n",
    "y = results_from_training\n",
    "\n",
    "plt.plot(x,y)\n",
    "plt.xlabel('k')\n",
    "plt.ylabel('average training errors')\n",
    "plt.title('training error plot')\n",
    "\n",
    "plt.show()\n"
   ]
  },
  {
   "cell_type": "markdown",
   "metadata": {},
   "source": [
    "Produce your testing error bar plot here:"
   ]
  },
  {
   "cell_type": "code",
   "execution_count": 24,
   "metadata": {},
   "outputs": [
    {
     "data": {
      "image/png": "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\n",
      "text/plain": [
       "<Figure size 432x288 with 1 Axes>"
      ]
     },
     "metadata": {
      "needs_background": "light"
     },
     "output_type": "display_data"
    }
   ],
   "source": [
    "from matplotlib import pyplot as plt\n",
    "\n",
    "x = np.arange(50)\n",
    "y = results_from_testing\n",
    "\n",
    "plt.plot(x,y)\n",
    "plt.xlabel('k')\n",
    "plt.ylabel('average testing errors')\n",
    "plt.title('testing error plot')\n",
    "\n",
    "plt.show()\n"
   ]
  },
  {
   "cell_type": "markdown",
   "metadata": {},
   "source": [
    "**Remember that all graphs should have axis labels and a title.**"
   ]
  },
  {
   "cell_type": "markdown",
   "metadata": {},
   "source": [
    "Now, answer a few questions according to what you have observed.\n",
    "\n",
    "Q1. What is the training accuracy obtained when $k=1$? Explain it."
   ]
  },
  {
   "cell_type": "raw",
   "metadata": {},
   "source": [
    "The training accuracy when k=1 is 100%, because the knn algorithm applied to an article x finds the same article x as the 1st nearest neighbour, therefore always classifying it correctly.\n"
   ]
  },
  {
   "cell_type": "markdown",
   "metadata": {},
   "source": [
    "Q2. Do the testing and training accuracies differ, and why?"
   ]
  },
  {
   "cell_type": "raw",
   "metadata": {},
   "source": [
    "Yes, the testing and training accuracies differ, because in the first case there are 480 articles used for testing and 320 different articles used for training, while in the second case the same 320 samples are used for both training and testing."
   ]
  },
  {
   "cell_type": "markdown",
   "metadata": {},
   "source": [
    "Q3. How do the accuracies change as $k$ gets bigger, and why?"
   ]
  },
  {
   "cell_type": "raw",
   "metadata": {},
   "source": [
    "The accuracies decrease as k gets bigger, because we are considering more neighbours, which might not be relevant, as they are further from the article in question (as regards the computed distance between articles)\n"
   ]
  },
  {
   "cell_type": "markdown",
   "metadata": {},
   "source": [
    "### Experiment 3\n",
    "\n",
    "Compare three 5-NN classifiers using cosine distance.\n",
    "First, randomly select 100 articles per class and keep these as your testing samples."
   ]
  },
  {
   "cell_type": "code",
   "execution_count": 39,
   "metadata": {},
   "outputs": [],
   "source": [
    "# Your code goes here\n",
    "indices = sample_indices(labels, 100,100,100,100)\n",
    "test_samples = data[indices]"
   ]
  },
  {
   "cell_type": "markdown",
   "metadata": {},
   "source": [
    "Then do the following:\n",
    "\n",
    "(1) Train the first classifier using all the remaining articles.\n",
    "Compute the confusion matrix for the 4 classes using the testing samples."
   ]
  },
  {
   "cell_type": "code",
   "execution_count": 48,
   "metadata": {},
   "outputs": [
    {
     "name": "stdout",
     "output_type": "stream",
     "text": [
      "Confusion matrix for class 1 is: \n",
      "[[100   0]\n",
      " [  5 295]]\n",
      "Confusion matrix for class 2 is: \n",
      "[[100   2]\n",
      " [  3 295]]\n",
      "Confusion matrix for class 3 is: \n",
      "[[ 97   5]\n",
      " [  0 298]]\n",
      "Confusion matrix for class 4 is: \n",
      "[[ 98   3]\n",
      " [  2 297]]\n"
     ]
    }
   ],
   "source": [
    "# Your code goes here\n",
    "def experiment3(indices,test_samples,number_of_test_samples):\n",
    "    all_indices = np.arange(800)\n",
    "    np.delete(all_indices,indices)\n",
    "    training_data = data[all_indices]\n",
    "    training_labels = labels[all_indices]\n",
    "    \n",
    "    output = knn_classify(test_samples, training_data, training_labels, \"cosine\" , 5)\n",
    "    TP = []\n",
    "    FP = []\n",
    "    FN = []\n",
    "    TN = []\n",
    "    ind = [] #indices\n",
    "    for i in range(4):\n",
    "        TP.append(0)\n",
    "        FP.append(0)\n",
    "        FN.append(0)\n",
    "        TN.append(0)\n",
    "        ind.append(i)\n",
    " \n",
    "    for i in range(number_of_test_samples):\n",
    "        if(output[i] == labels[indices[i]]): #article i was classified correctly\n",
    "            TP[output[i]]+=1\n",
    "            for j in range(4):\n",
    "                if(j!=output[i]):\n",
    "                    TN[j]+=1\n",
    "        else:  #article i was not classified correctly\n",
    "            FP[output[i]]+=1 #count a false positive for labels[indices[i]] class\n",
    "            FP[labels[indices[i]]]+=1\n",
    "    for i in range(4):\n",
    "        FN[i]=number_of_test_samples - (TP[i]+TN[i]+FP[i])\n",
    "    \n",
    "    cm_class1 = np.array([[TP[0],FP[0]],[FN[0],TN[0]]])\n",
    "    cm_class2 = np.array([[TP[1],FP[1]],[FN[1],TN[1]]])\n",
    "    cm_class3 = np.array([[TP[2],FP[2]],[FN[2],TN[2]]])\n",
    "    cm_class4 = np.array([[TP[3],FP[3]],[FN[3],TN[3]]])\n",
    "    print(\"Confusion matrix for class 1 is: \\n\"+str(np.matrix(cm_class1)))  \n",
    "    print(\"Confusion matrix for class 2 is: \\n\"+str(np.matrix(cm_class2)))\n",
    "    print(\"Confusion matrix for class 3 is: \\n\"+str(np.matrix(cm_class3)))\n",
    "    print(\"Confusion matrix for class 4 is: \\n\"+str(np.matrix(cm_class4)))\n",
    "        \n",
    "\n",
    "experiment3(indices, test_samples,400)\n"
   ]
  },
  {
   "cell_type": "markdown",
   "metadata": {},
   "source": [
    "(2) Randomly remove 95 training articles from class 1 (\"crude\").\n",
    "Train the second classifier using the reduced training samples.\n",
    "Compute the confusion matrix for the 4 classes using the testing samples."
   ]
  },
  {
   "cell_type": "code",
   "execution_count": 49,
   "metadata": {},
   "outputs": [
    {
     "name": "stdout",
     "output_type": "stream",
     "text": [
      "Confusion matrix for class 1 is: \n",
      "[[100   1]\n",
      " [  5 389]]\n",
      "Confusion matrix for class 2 is: \n",
      "[[193   3]\n",
      " [  3 296]]\n",
      "Confusion matrix for class 3 is: \n",
      "[[ 97   4]\n",
      " [  2 392]]\n",
      "Confusion matrix for class 4 is: \n",
      "[[ 99   4]\n",
      " [  2 390]]\n"
     ]
    }
   ],
   "source": [
    "indices = sample_indices(labels, 100,195,100,100)\n",
    "test_samples = data[indices]\n",
    "experiment3(indices, test_samples,495)\n"
   ]
  },
  {
   "cell_type": "markdown",
   "metadata": {},
   "source": [
    "(3) Redo (2), but randomly remove 95 training articles from *all* the classes.\n",
    "Train the third classifier using the new training data.\n",
    "Compute the confusion matrix for the 4 classes using the testing samples."
   ]
  },
  {
   "cell_type": "code",
   "execution_count": 50,
   "metadata": {},
   "outputs": [
    {
     "name": "stdout",
     "output_type": "stream",
     "text": [
      "Confusion matrix for class 1 is: \n",
      "[[194   2]\n",
      " [  8 576]]\n",
      "Confusion matrix for class 2 is: \n",
      "[[193   4]\n",
      " [  6 577]]\n",
      "Confusion matrix for class 3 is: \n",
      "[[191   7]\n",
      " [  3 579]]\n",
      "Confusion matrix for class 4 is: \n",
      "[[192   7]\n",
      " [  3 578]]\n"
     ]
    }
   ],
   "source": [
    "indices = sample_indices(labels, 195,195,195,195)\n",
    "test_samples = data[indices]\n",
    "experiment3(indices, test_samples,780)\n"
   ]
  },
  {
   "cell_type": "markdown",
   "metadata": {},
   "source": [
    "Repeat the whole thing a few times.\n",
    "Which of the three classifiers performs the worst?\n",
    "Try to analyse why this might be."
   ]
  },
  {
   "cell_type": "raw",
   "metadata": {},
   "source": [
    "The 3rd 5-nn classifier performs the worst, because although the training data is balanced(unlike the 2nd 5-nn classifier), it is also very reduced."
   ]
  },
  {
   "cell_type": "markdown",
   "metadata": {},
   "source": [
    "## 5. Deliverables and Marking\n",
    "\n",
    "By the deadline, you should submit one single Jupyter file using GitLab.\n",
    "Please find the coursework submission instruction from the following link:\n",
    "https://wiki.cs.manchester.ac.uk/index.php/UGHandbook19:Coursework\n",
    "\n",
    "This exercise is worth 15 marks — marks will be allocated roughly on the basis of:\n",
    "* rigorous experimentation,\n",
    "* knowledge displayed when talking to the TA,\n",
    "* problem solving skill,\n",
    "* self-learning ability,\n",
    "* how informative and well presented your graphs are,\n",
    "* language and ease of reading.\n",
    "\n",
    "You must be able to explain any code you've written in order to get full marks. During the marking session we will ask you to run all cells in your Jupyter file, so ensure that the file is runnable using the \"Restart Kernel and Run All Cells\" menu option.\n",
    "\n",
    "The lab is marked out of 15:\n",
    "\n",
    "|                          |         |\n",
    "|:------------------------ |--------:|\n",
    "| k-NN Implementation      | 3 marks |\n",
    "| Experiment 1             | 4 marks |\n",
    "| Experiment 2             | 4 marks |\n",
    "| Experiment 3             | 4 marks |"
   ]
  }
 ],
 "metadata": {
  "kernelspec": {
   "display_name": "Python 3",
   "language": "python",
   "name": "python3"
  },
  "language_info": {
   "codemirror_mode": {
    "name": "ipython",
    "version": 3
   },
   "file_extension": ".py",
   "mimetype": "text/x-python",
   "name": "python",
   "nbconvert_exporter": "python",
   "pygments_lexer": "ipython3",
   "version": "3.6.6"
  }
 },
 "nbformat": 4,
 "nbformat_minor": 4
}
